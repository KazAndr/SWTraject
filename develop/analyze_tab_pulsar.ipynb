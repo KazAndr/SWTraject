{
 "cells": [
  {
   "cell_type": "markdown",
   "metadata": {},
   "source": [
    "Подсчет темпа генерации для пульсаров"
   ]
  },
  {
   "cell_type": "code",
   "execution_count": 2,
   "metadata": {
    "colab": {},
    "colab_type": "code",
    "id": "N9nzedAiP9jX"
   },
   "outputs": [],
   "source": [
    "import os\n",
    "import sys\n",
    "import glob\n",
    "import datetime\n",
    "from functools import reduce\n",
    "\n",
    "import numpy as np\n",
    "import pandas as pd\n",
    "\n",
    "import matplotlib.pyplot as plt\n",
    "import matplotlib.dates as mdates\n",
    "import matplotlib.ticker as ticker"
   ]
  },
  {
   "cell_type": "code",
   "execution_count": 4,
   "metadata": {
    "colab": {},
    "colab_type": "code",
    "id": "Q7XweTTXP9jd"
   },
   "outputs": [
    {
     "name": "stderr",
     "output_type": "stream",
     "text": [
      "/home/andr/.local/lib/python3.5/site-packages/ipykernel_launcher.py:2: FutureWarning: read_table is deprecated, use read_csv instead.\n",
      "  \n"
     ]
    },
    {
     "ename": "FileNotFoundError",
     "evalue": "[Errno 2] File b'1133+16_gp_kaz_10.csv' does not exist: b'1133+16_gp_kaz_10.csv'",
     "output_type": "error",
     "traceback": [
      "\u001b[0;31m---------------------------------------------------------------------------\u001b[0m",
      "\u001b[0;31mFileNotFoundError\u001b[0m                         Traceback (most recent call last)",
      "\u001b[0;32m<ipython-input-4-825dbde41e86>\u001b[0m in \u001b[0;36m<module>\u001b[0;34m\u001b[0m\n\u001b[1;32m      1\u001b[0m \u001b[0mpulsar_name\u001b[0m \u001b[0;34m=\u001b[0m \u001b[0;34m'1133+16'\u001b[0m\u001b[0;34m\u001b[0m\u001b[0m\n\u001b[0;32m----> 2\u001b[0;31m \u001b[0mgp_table_pulsar\u001b[0m \u001b[0;34m=\u001b[0m \u001b[0mpd\u001b[0m\u001b[0;34m.\u001b[0m\u001b[0mread_table\u001b[0m\u001b[0;34m(\u001b[0m\u001b[0mpulsar_name\u001b[0m \u001b[0;34m+\u001b[0m \u001b[0;34m'_gp_kaz_10.csv'\u001b[0m\u001b[0;34m,\u001b[0m \u001b[0msep\u001b[0m\u001b[0;34m=\u001b[0m\u001b[0;34m'\\t'\u001b[0m\u001b[0;34m)\u001b[0m\u001b[0;34m\u001b[0m\u001b[0m\n\u001b[0m\u001b[1;32m      3\u001b[0m \u001b[0msession_pulsar\u001b[0m \u001b[0;34m=\u001b[0m \u001b[0mpd\u001b[0m\u001b[0;34m.\u001b[0m\u001b[0mread_table\u001b[0m\u001b[0;34m(\u001b[0m\u001b[0mpulsar_name\u001b[0m \u001b[0;34m+\u001b[0m \u001b[0;34m'_obs_kaz.csv'\u001b[0m\u001b[0;34m,\u001b[0m \u001b[0msep\u001b[0m\u001b[0;34m=\u001b[0m\u001b[0;34m'\\t'\u001b[0m\u001b[0;34m)\u001b[0m\u001b[0;34m\u001b[0m\u001b[0m\n",
      "\u001b[0;32m~/.local/lib/python3.5/site-packages/pandas/io/parsers.py\u001b[0m in \u001b[0;36mparser_f\u001b[0;34m(filepath_or_buffer, sep, delimiter, header, names, index_col, usecols, squeeze, prefix, mangle_dupe_cols, dtype, engine, converters, true_values, false_values, skipinitialspace, skiprows, skipfooter, nrows, na_values, keep_default_na, na_filter, verbose, skip_blank_lines, parse_dates, infer_datetime_format, keep_date_col, date_parser, dayfirst, iterator, chunksize, compression, thousands, decimal, lineterminator, quotechar, quoting, doublequote, escapechar, comment, encoding, dialect, tupleize_cols, error_bad_lines, warn_bad_lines, delim_whitespace, low_memory, memory_map, float_precision)\u001b[0m\n\u001b[1;32m    700\u001b[0m                     skip_blank_lines=skip_blank_lines)\n\u001b[1;32m    701\u001b[0m \u001b[0;34m\u001b[0m\u001b[0m\n\u001b[0;32m--> 702\u001b[0;31m         \u001b[0;32mreturn\u001b[0m \u001b[0m_read\u001b[0m\u001b[0;34m(\u001b[0m\u001b[0mfilepath_or_buffer\u001b[0m\u001b[0;34m,\u001b[0m \u001b[0mkwds\u001b[0m\u001b[0;34m)\u001b[0m\u001b[0;34m\u001b[0m\u001b[0m\n\u001b[0m\u001b[1;32m    703\u001b[0m \u001b[0;34m\u001b[0m\u001b[0m\n\u001b[1;32m    704\u001b[0m     \u001b[0mparser_f\u001b[0m\u001b[0;34m.\u001b[0m\u001b[0m__name__\u001b[0m \u001b[0;34m=\u001b[0m \u001b[0mname\u001b[0m\u001b[0;34m\u001b[0m\u001b[0m\n",
      "\u001b[0;32m~/.local/lib/python3.5/site-packages/pandas/io/parsers.py\u001b[0m in \u001b[0;36m_read\u001b[0;34m(filepath_or_buffer, kwds)\u001b[0m\n\u001b[1;32m    427\u001b[0m \u001b[0;34m\u001b[0m\u001b[0m\n\u001b[1;32m    428\u001b[0m     \u001b[0;31m# Create the parser.\u001b[0m\u001b[0;34m\u001b[0m\u001b[0;34m\u001b[0m\u001b[0m\n\u001b[0;32m--> 429\u001b[0;31m     \u001b[0mparser\u001b[0m \u001b[0;34m=\u001b[0m \u001b[0mTextFileReader\u001b[0m\u001b[0;34m(\u001b[0m\u001b[0mfilepath_or_buffer\u001b[0m\u001b[0;34m,\u001b[0m \u001b[0;34m**\u001b[0m\u001b[0mkwds\u001b[0m\u001b[0;34m)\u001b[0m\u001b[0;34m\u001b[0m\u001b[0m\n\u001b[0m\u001b[1;32m    430\u001b[0m \u001b[0;34m\u001b[0m\u001b[0m\n\u001b[1;32m    431\u001b[0m     \u001b[0;32mif\u001b[0m \u001b[0mchunksize\u001b[0m \u001b[0;32mor\u001b[0m \u001b[0miterator\u001b[0m\u001b[0;34m:\u001b[0m\u001b[0;34m\u001b[0m\u001b[0m\n",
      "\u001b[0;32m~/.local/lib/python3.5/site-packages/pandas/io/parsers.py\u001b[0m in \u001b[0;36m__init__\u001b[0;34m(self, f, engine, **kwds)\u001b[0m\n\u001b[1;32m    893\u001b[0m             \u001b[0mself\u001b[0m\u001b[0;34m.\u001b[0m\u001b[0moptions\u001b[0m\u001b[0;34m[\u001b[0m\u001b[0;34m'has_index_names'\u001b[0m\u001b[0;34m]\u001b[0m \u001b[0;34m=\u001b[0m \u001b[0mkwds\u001b[0m\u001b[0;34m[\u001b[0m\u001b[0;34m'has_index_names'\u001b[0m\u001b[0;34m]\u001b[0m\u001b[0;34m\u001b[0m\u001b[0m\n\u001b[1;32m    894\u001b[0m \u001b[0;34m\u001b[0m\u001b[0m\n\u001b[0;32m--> 895\u001b[0;31m         \u001b[0mself\u001b[0m\u001b[0;34m.\u001b[0m\u001b[0m_make_engine\u001b[0m\u001b[0;34m(\u001b[0m\u001b[0mself\u001b[0m\u001b[0;34m.\u001b[0m\u001b[0mengine\u001b[0m\u001b[0;34m)\u001b[0m\u001b[0;34m\u001b[0m\u001b[0m\n\u001b[0m\u001b[1;32m    896\u001b[0m \u001b[0;34m\u001b[0m\u001b[0m\n\u001b[1;32m    897\u001b[0m     \u001b[0;32mdef\u001b[0m \u001b[0mclose\u001b[0m\u001b[0;34m(\u001b[0m\u001b[0mself\u001b[0m\u001b[0;34m)\u001b[0m\u001b[0;34m:\u001b[0m\u001b[0;34m\u001b[0m\u001b[0m\n",
      "\u001b[0;32m~/.local/lib/python3.5/site-packages/pandas/io/parsers.py\u001b[0m in \u001b[0;36m_make_engine\u001b[0;34m(self, engine)\u001b[0m\n\u001b[1;32m   1120\u001b[0m     \u001b[0;32mdef\u001b[0m \u001b[0m_make_engine\u001b[0m\u001b[0;34m(\u001b[0m\u001b[0mself\u001b[0m\u001b[0;34m,\u001b[0m \u001b[0mengine\u001b[0m\u001b[0;34m=\u001b[0m\u001b[0;34m'c'\u001b[0m\u001b[0;34m)\u001b[0m\u001b[0;34m:\u001b[0m\u001b[0;34m\u001b[0m\u001b[0m\n\u001b[1;32m   1121\u001b[0m         \u001b[0;32mif\u001b[0m \u001b[0mengine\u001b[0m \u001b[0;34m==\u001b[0m \u001b[0;34m'c'\u001b[0m\u001b[0;34m:\u001b[0m\u001b[0;34m\u001b[0m\u001b[0m\n\u001b[0;32m-> 1122\u001b[0;31m             \u001b[0mself\u001b[0m\u001b[0;34m.\u001b[0m\u001b[0m_engine\u001b[0m \u001b[0;34m=\u001b[0m \u001b[0mCParserWrapper\u001b[0m\u001b[0;34m(\u001b[0m\u001b[0mself\u001b[0m\u001b[0;34m.\u001b[0m\u001b[0mf\u001b[0m\u001b[0;34m,\u001b[0m \u001b[0;34m**\u001b[0m\u001b[0mself\u001b[0m\u001b[0;34m.\u001b[0m\u001b[0moptions\u001b[0m\u001b[0;34m)\u001b[0m\u001b[0;34m\u001b[0m\u001b[0m\n\u001b[0m\u001b[1;32m   1123\u001b[0m         \u001b[0;32melse\u001b[0m\u001b[0;34m:\u001b[0m\u001b[0;34m\u001b[0m\u001b[0m\n\u001b[1;32m   1124\u001b[0m             \u001b[0;32mif\u001b[0m \u001b[0mengine\u001b[0m \u001b[0;34m==\u001b[0m \u001b[0;34m'python'\u001b[0m\u001b[0;34m:\u001b[0m\u001b[0;34m\u001b[0m\u001b[0m\n",
      "\u001b[0;32m~/.local/lib/python3.5/site-packages/pandas/io/parsers.py\u001b[0m in \u001b[0;36m__init__\u001b[0;34m(self, src, **kwds)\u001b[0m\n\u001b[1;32m   1851\u001b[0m         \u001b[0mkwds\u001b[0m\u001b[0;34m[\u001b[0m\u001b[0;34m'usecols'\u001b[0m\u001b[0;34m]\u001b[0m \u001b[0;34m=\u001b[0m \u001b[0mself\u001b[0m\u001b[0;34m.\u001b[0m\u001b[0musecols\u001b[0m\u001b[0;34m\u001b[0m\u001b[0m\n\u001b[1;32m   1852\u001b[0m \u001b[0;34m\u001b[0m\u001b[0m\n\u001b[0;32m-> 1853\u001b[0;31m         \u001b[0mself\u001b[0m\u001b[0;34m.\u001b[0m\u001b[0m_reader\u001b[0m \u001b[0;34m=\u001b[0m \u001b[0mparsers\u001b[0m\u001b[0;34m.\u001b[0m\u001b[0mTextReader\u001b[0m\u001b[0;34m(\u001b[0m\u001b[0msrc\u001b[0m\u001b[0;34m,\u001b[0m \u001b[0;34m**\u001b[0m\u001b[0mkwds\u001b[0m\u001b[0;34m)\u001b[0m\u001b[0;34m\u001b[0m\u001b[0m\n\u001b[0m\u001b[1;32m   1854\u001b[0m         \u001b[0mself\u001b[0m\u001b[0;34m.\u001b[0m\u001b[0munnamed_cols\u001b[0m \u001b[0;34m=\u001b[0m \u001b[0mself\u001b[0m\u001b[0;34m.\u001b[0m\u001b[0m_reader\u001b[0m\u001b[0;34m.\u001b[0m\u001b[0munnamed_cols\u001b[0m\u001b[0;34m\u001b[0m\u001b[0m\n\u001b[1;32m   1855\u001b[0m \u001b[0;34m\u001b[0m\u001b[0m\n",
      "\u001b[0;32mpandas/_libs/parsers.pyx\u001b[0m in \u001b[0;36mpandas._libs.parsers.TextReader.__cinit__\u001b[0;34m()\u001b[0m\n",
      "\u001b[0;32mpandas/_libs/parsers.pyx\u001b[0m in \u001b[0;36mpandas._libs.parsers.TextReader._setup_parser_source\u001b[0;34m()\u001b[0m\n",
      "\u001b[0;31mFileNotFoundError\u001b[0m: [Errno 2] File b'1133+16_gp_kaz_10.csv' does not exist: b'1133+16_gp_kaz_10.csv'"
     ]
    }
   ],
   "source": [
    "pulsar_name = '1133+16'\n",
    "gp_table_pulsar = pd.read_table(pulsar_name + '_gp_kaz_10.csv', sep='\\t')\n",
    "session_pulsar = pd.read_table(pulsar_name + '_obs_kaz.csv', sep='\\t')"
   ]
  },
  {
   "cell_type": "code",
   "execution_count": 0,
   "metadata": {
    "colab": {},
    "colab_type": "code",
    "id": "RZxLwtz_P9jg"
   },
   "outputs": [],
   "source": [
    "gp_table_pulsar['Time_series'] = pd.to_datetime(gp_table_pulsar['Date'], format='%d.%m.%Y', errors='ignore')\n",
    "session_pulsar['Time_series'] = pd.to_datetime(session_pulsar['Date'], format='%d.%m.%Y', errors='ignore')\n",
    "gp_table_pulsar = gp_table_pulsar.set_index('Time_series')\n",
    "session_pulsar = session_pulsar.set_index('Time_series')"
   ]
  },
  {
   "cell_type": "code",
   "execution_count": 0,
   "metadata": {
    "colab": {},
    "colab_type": "code",
    "id": "xqYKZugpP9jk",
    "outputId": "2938524b-3e8f-44c9-9506-d38a401d99bb"
   },
   "outputs": [
    {
     "data": {
      "text/html": [
       "<div>\n",
       "<style scoped>\n",
       "    .dataframe tbody tr th:only-of-type {\n",
       "        vertical-align: middle;\n",
       "    }\n",
       "\n",
       "    .dataframe tbody tr th {\n",
       "        vertical-align: top;\n",
       "    }\n",
       "\n",
       "    .dataframe thead th {\n",
       "        text-align: right;\n",
       "    }\n",
       "</style>\n",
       "<table border=\"1\" class=\"dataframe\">\n",
       "  <thead>\n",
       "    <tr style=\"text-align: right;\">\n",
       "      <th></th>\n",
       "      <th>Date</th>\n",
       "      <th>Time start</th>\n",
       "      <th>Tay, ms</th>\n",
       "      <th>Period, s</th>\n",
       "      <th>Numpointwin, point</th>\n",
       "      <th>Numpulse, a.u.</th>\n",
       "      <th>Median, adc u</th>\n",
       "      <th>STD, adc u</th>\n",
       "      <th>File name</th>\n",
       "      <th>Count of GP, u</th>\n",
       "      <th>Num pulse</th>\n",
       "      <th>point of gp, point</th>\n",
       "      <th>amp of gp, adc u</th>\n",
       "      <th>W50, point</th>\n",
       "      <th>W10, point</th>\n",
       "      <th>path plot</th>\n",
       "    </tr>\n",
       "    <tr>\n",
       "      <th>Time_series</th>\n",
       "      <th></th>\n",
       "      <th></th>\n",
       "      <th></th>\n",
       "      <th></th>\n",
       "      <th></th>\n",
       "      <th></th>\n",
       "      <th></th>\n",
       "      <th></th>\n",
       "      <th></th>\n",
       "      <th></th>\n",
       "      <th></th>\n",
       "      <th></th>\n",
       "      <th></th>\n",
       "      <th></th>\n",
       "      <th></th>\n",
       "      <th></th>\n",
       "    </tr>\n",
       "  </thead>\n",
       "  <tbody>\n",
       "    <tr>\n",
       "      <th>2016-09-01</th>\n",
       "      <td>01.09.2016</td>\n",
       "      <td>13:19:00.8392366</td>\n",
       "      <td>1.2288</td>\n",
       "      <td>1.187933</td>\n",
       "      <td>570</td>\n",
       "      <td>167</td>\n",
       "      <td>47.088339</td>\n",
       "      <td>0.966374</td>\n",
       "      <td>010916_1133+16_00_profiles.txt</td>\n",
       "      <td>1</td>\n",
       "      <td>98</td>\n",
       "      <td>147</td>\n",
       "      <td>37.491761</td>\n",
       "      <td>1.99150</td>\n",
       "      <td>4.58045</td>\n",
       "      <td>./gp_plot_pulsar/01.09.2016_plot_1133+16_98.png</td>\n",
       "    </tr>\n",
       "    <tr>\n",
       "      <th>2017-09-01</th>\n",
       "      <td>01.09.2017</td>\n",
       "      <td>13:20:01.5297752</td>\n",
       "      <td>1.2288</td>\n",
       "      <td>1.187933</td>\n",
       "      <td>570</td>\n",
       "      <td>167</td>\n",
       "      <td>45.488041</td>\n",
       "      <td>0.936635</td>\n",
       "      <td>010917_1133+16_00_profiles.txt</td>\n",
       "      <td>1</td>\n",
       "      <td>39</td>\n",
       "      <td>123</td>\n",
       "      <td>615.645059</td>\n",
       "      <td>1.93460</td>\n",
       "      <td>4.69425</td>\n",
       "      <td>./gp_plot_pulsar/01.09.2017_plot_1133+16_39.png</td>\n",
       "    </tr>\n",
       "    <tr>\n",
       "      <th>2017-09-01</th>\n",
       "      <td>01.09.2017</td>\n",
       "      <td>13:20:01.5297752</td>\n",
       "      <td>1.2288</td>\n",
       "      <td>1.187933</td>\n",
       "      <td>570</td>\n",
       "      <td>167</td>\n",
       "      <td>45.488041</td>\n",
       "      <td>0.867013</td>\n",
       "      <td>010917_1133+16_00_profiles.txt</td>\n",
       "      <td>1</td>\n",
       "      <td>71</td>\n",
       "      <td>148</td>\n",
       "      <td>855.178459</td>\n",
       "      <td>1.90615</td>\n",
       "      <td>8.96175</td>\n",
       "      <td>./gp_plot_pulsar/01.09.2017_plot_1133+16_71.png</td>\n",
       "    </tr>\n",
       "    <tr>\n",
       "      <th>2016-10-01</th>\n",
       "      <td>01.10.2016</td>\n",
       "      <td>11:21:03.5212043</td>\n",
       "      <td>1.2288</td>\n",
       "      <td>1.187875</td>\n",
       "      <td>570</td>\n",
       "      <td>167</td>\n",
       "      <td>37.924473</td>\n",
       "      <td>0.769368</td>\n",
       "      <td>011016_1133+16_00_profiles.txt</td>\n",
       "      <td>1</td>\n",
       "      <td>49</td>\n",
       "      <td>138</td>\n",
       "      <td>74.521227</td>\n",
       "      <td>2.21910</td>\n",
       "      <td>5.46240</td>\n",
       "      <td>./gp_plot_pulsar/01.10.2016_plot_1133+16_49.png</td>\n",
       "    </tr>\n",
       "    <tr>\n",
       "      <th>2016-12-01</th>\n",
       "      <td>01.12.2016</td>\n",
       "      <td>07:21:13.8233013</td>\n",
       "      <td>1.2288</td>\n",
       "      <td>1.187801</td>\n",
       "      <td>570</td>\n",
       "      <td>167</td>\n",
       "      <td>41.978878</td>\n",
       "      <td>0.859004</td>\n",
       "      <td>011216_1133+16_00_profiles.txt</td>\n",
       "      <td>1</td>\n",
       "      <td>83</td>\n",
       "      <td>154</td>\n",
       "      <td>98.017922</td>\n",
       "      <td>1.90615</td>\n",
       "      <td>3.18640</td>\n",
       "      <td>./gp_plot_pulsar/01.12.2016_plot_1133+16_83.png</td>\n",
       "    </tr>\n",
       "  </tbody>\n",
       "</table>\n",
       "</div>"
      ],
      "text/plain": [
       "                   Date        Time start  Tay, ms  Period, s  \\\n",
       "Time_series                                                     \n",
       "2016-09-01   01.09.2016  13:19:00.8392366   1.2288   1.187933   \n",
       "2017-09-01   01.09.2017  13:20:01.5297752   1.2288   1.187933   \n",
       "2017-09-01   01.09.2017  13:20:01.5297752   1.2288   1.187933   \n",
       "2016-10-01   01.10.2016  11:21:03.5212043   1.2288   1.187875   \n",
       "2016-12-01   01.12.2016  07:21:13.8233013   1.2288   1.187801   \n",
       "\n",
       "             Numpointwin, point  Numpulse, a.u.  Median, adc u  STD, adc u  \\\n",
       "Time_series                                                                  \n",
       "2016-09-01                  570             167      47.088339    0.966374   \n",
       "2017-09-01                  570             167      45.488041    0.936635   \n",
       "2017-09-01                  570             167      45.488041    0.867013   \n",
       "2016-10-01                  570             167      37.924473    0.769368   \n",
       "2016-12-01                  570             167      41.978878    0.859004   \n",
       "\n",
       "                                  File name  Count of GP, u  Num pulse  \\\n",
       "Time_series                                                              \n",
       "2016-09-01   010916_1133+16_00_profiles.txt               1         98   \n",
       "2017-09-01   010917_1133+16_00_profiles.txt               1         39   \n",
       "2017-09-01   010917_1133+16_00_profiles.txt               1         71   \n",
       "2016-10-01   011016_1133+16_00_profiles.txt               1         49   \n",
       "2016-12-01   011216_1133+16_00_profiles.txt               1         83   \n",
       "\n",
       "             point of gp, point  amp of gp, adc u  W50, point  W10, point  \\\n",
       "Time_series                                                                 \n",
       "2016-09-01                  147         37.491761     1.99150     4.58045   \n",
       "2017-09-01                  123        615.645059     1.93460     4.69425   \n",
       "2017-09-01                  148        855.178459     1.90615     8.96175   \n",
       "2016-10-01                  138         74.521227     2.21910     5.46240   \n",
       "2016-12-01                  154         98.017922     1.90615     3.18640   \n",
       "\n",
       "                                                   path plot  \n",
       "Time_series                                                   \n",
       "2016-09-01   ./gp_plot_pulsar/01.09.2016_plot_1133+16_98.png  \n",
       "2017-09-01   ./gp_plot_pulsar/01.09.2017_plot_1133+16_39.png  \n",
       "2017-09-01   ./gp_plot_pulsar/01.09.2017_plot_1133+16_71.png  \n",
       "2016-10-01   ./gp_plot_pulsar/01.10.2016_plot_1133+16_49.png  \n",
       "2016-12-01   ./gp_plot_pulsar/01.12.2016_plot_1133+16_83.png  "
      ]
     },
     "execution_count": 93,
     "metadata": {
      "tags": []
     },
     "output_type": "execute_result"
    }
   ],
   "source": [
    "gp_table_pulsar.head()"
   ]
  },
  {
   "cell_type": "code",
   "execution_count": 0,
   "metadata": {
    "colab": {},
    "colab_type": "code",
    "id": "3VrdokXsP9jr",
    "outputId": "c9c5df00-fa50-4f11-fa75-66b38aebb48d"
   },
   "outputs": [
    {
     "data": {
      "text/html": [
       "<div>\n",
       "<style scoped>\n",
       "    .dataframe tbody tr th:only-of-type {\n",
       "        vertical-align: middle;\n",
       "    }\n",
       "\n",
       "    .dataframe tbody tr th {\n",
       "        vertical-align: top;\n",
       "    }\n",
       "\n",
       "    .dataframe thead th {\n",
       "        text-align: right;\n",
       "    }\n",
       "</style>\n",
       "<table border=\"1\" class=\"dataframe\">\n",
       "  <thead>\n",
       "    <tr style=\"text-align: right;\">\n",
       "      <th></th>\n",
       "      <th>Date</th>\n",
       "      <th>Session</th>\n",
       "    </tr>\n",
       "    <tr>\n",
       "      <th>Time_series</th>\n",
       "      <th></th>\n",
       "      <th></th>\n",
       "    </tr>\n",
       "  </thead>\n",
       "  <tbody>\n",
       "    <tr>\n",
       "      <th>2016-01-01</th>\n",
       "      <td>01.01.2016</td>\n",
       "      <td>1</td>\n",
       "    </tr>\n",
       "    <tr>\n",
       "      <th>2017-01-01</th>\n",
       "      <td>01.01.2017</td>\n",
       "      <td>1</td>\n",
       "    </tr>\n",
       "    <tr>\n",
       "      <th>2017-02-01</th>\n",
       "      <td>01.02.2017</td>\n",
       "      <td>1</td>\n",
       "    </tr>\n",
       "    <tr>\n",
       "      <th>2016-03-01</th>\n",
       "      <td>01.03.2016</td>\n",
       "      <td>1</td>\n",
       "    </tr>\n",
       "    <tr>\n",
       "      <th>2017-03-01</th>\n",
       "      <td>01.03.2017</td>\n",
       "      <td>1</td>\n",
       "    </tr>\n",
       "  </tbody>\n",
       "</table>\n",
       "</div>"
      ],
      "text/plain": [
       "                   Date  Session\n",
       "Time_series                     \n",
       "2016-01-01   01.01.2016        1\n",
       "2017-01-01   01.01.2017        1\n",
       "2017-02-01   01.02.2017        1\n",
       "2016-03-01   01.03.2016        1\n",
       "2017-03-01   01.03.2017        1"
      ]
     },
     "execution_count": 94,
     "metadata": {
      "tags": []
     },
     "output_type": "execute_result"
    }
   ],
   "source": [
    "session_pulsar.head()"
   ]
  },
  {
   "cell_type": "code",
   "execution_count": 0,
   "metadata": {
    "colab": {},
    "colab_type": "code",
    "id": "UV2SJWy1P9jv",
    "outputId": "c4217b3b-76af-4a3f-bb88-f2878e169656"
   },
   "outputs": [
    {
     "data": {
      "text/plain": [
       "Time_series\n",
       "2013-12-31     5\n",
       "2014-12-31    33\n",
       "2015-12-31    24\n",
       "2016-12-31    57\n",
       "2017-12-31    63\n",
       "2018-12-31     5\n",
       "Freq: A-DEC, Name: Count of GP, u, dtype: int64"
      ]
     },
     "execution_count": 95,
     "metadata": {
      "tags": []
     },
     "output_type": "execute_result"
    }
   ],
   "source": [
    "gp_table_pulsar['Count of GP, u'].resample('Y').sum()"
   ]
  },
  {
   "cell_type": "code",
   "execution_count": 0,
   "metadata": {
    "colab": {},
    "colab_type": "code",
    "id": "StXhuGBjP9j0",
    "outputId": "c7294244-b813-49a8-bb07-6b91d46d5f5f"
   },
   "outputs": [
    {
     "data": {
      "text/plain": [
       "Time_series\n",
       "2013-12-31     30\n",
       "2014-12-31     93\n",
       "2015-12-31    159\n",
       "2016-12-31    183\n",
       "2017-12-31    264\n",
       "2018-12-31     58\n",
       "Freq: A-DEC, Name: Session, dtype: int64"
      ]
     },
     "execution_count": 96,
     "metadata": {
      "tags": []
     },
     "output_type": "execute_result"
    }
   ],
   "source": [
    "session_pulsar['Session'].resample('Y').sum()"
   ]
  },
  {
   "cell_type": "code",
   "execution_count": 0,
   "metadata": {
    "colab": {},
    "colab_type": "code",
    "id": "B0PxN2VEP9j5"
   },
   "outputs": [],
   "source": [
    "gp_pulsar_m = gp_table_pulsar['Count of GP, u'].resample('M').sum().to_frame()"
   ]
  },
  {
   "cell_type": "code",
   "execution_count": 0,
   "metadata": {
    "colab": {},
    "colab_type": "code",
    "id": "gXSpluTjP9j8"
   },
   "outputs": [],
   "source": [
    "gp_pulsar_m_ses = session_pulsar['Session'].resample('M').sum().to_frame()"
   ]
  },
  {
   "cell_type": "code",
   "execution_count": 0,
   "metadata": {
    "colab": {},
    "colab_type": "code",
    "id": "75Ptfv98P9j_"
   },
   "outputs": [],
   "source": [
    "result_pulsar = gp_pulsar_m.join(gp_pulsar_m_ses, how='outer')"
   ]
  },
  {
   "cell_type": "code",
   "execution_count": 0,
   "metadata": {
    "colab": {},
    "colab_type": "code",
    "id": "2SinppAxP9kC",
    "outputId": "b300ace2-c49b-418d-c32f-04e0b908c39f"
   },
   "outputs": [
    {
     "data": {
      "text/html": [
       "<div>\n",
       "<style scoped>\n",
       "    .dataframe tbody tr th:only-of-type {\n",
       "        vertical-align: middle;\n",
       "    }\n",
       "\n",
       "    .dataframe tbody tr th {\n",
       "        vertical-align: top;\n",
       "    }\n",
       "\n",
       "    .dataframe thead th {\n",
       "        text-align: right;\n",
       "    }\n",
       "</style>\n",
       "<table border=\"1\" class=\"dataframe\">\n",
       "  <thead>\n",
       "    <tr style=\"text-align: right;\">\n",
       "      <th></th>\n",
       "      <th>Count of GP, u</th>\n",
       "      <th>Session</th>\n",
       "    </tr>\n",
       "    <tr>\n",
       "      <th>Time_series</th>\n",
       "      <th></th>\n",
       "      <th></th>\n",
       "    </tr>\n",
       "  </thead>\n",
       "  <tbody>\n",
       "    <tr>\n",
       "      <th>2013-10-31</th>\n",
       "      <td>1</td>\n",
       "      <td>7</td>\n",
       "    </tr>\n",
       "    <tr>\n",
       "      <th>2013-11-30</th>\n",
       "      <td>1</td>\n",
       "      <td>9</td>\n",
       "    </tr>\n",
       "    <tr>\n",
       "      <th>2013-12-31</th>\n",
       "      <td>3</td>\n",
       "      <td>14</td>\n",
       "    </tr>\n",
       "    <tr>\n",
       "      <th>2014-01-31</th>\n",
       "      <td>2</td>\n",
       "      <td>10</td>\n",
       "    </tr>\n",
       "    <tr>\n",
       "      <th>2014-02-28</th>\n",
       "      <td>2</td>\n",
       "      <td>11</td>\n",
       "    </tr>\n",
       "  </tbody>\n",
       "</table>\n",
       "</div>"
      ],
      "text/plain": [
       "             Count of GP, u  Session\n",
       "Time_series                         \n",
       "2013-10-31                1        7\n",
       "2013-11-30                1        9\n",
       "2013-12-31                3       14\n",
       "2014-01-31                2       10\n",
       "2014-02-28                2       11"
      ]
     },
     "execution_count": 100,
     "metadata": {
      "tags": []
     },
     "output_type": "execute_result"
    }
   ],
   "source": [
    "result_pulsar.head()"
   ]
  },
  {
   "cell_type": "code",
   "execution_count": 0,
   "metadata": {
    "colab": {},
    "colab_type": "code",
    "id": "2xSkvA3lP9kG",
    "outputId": "657863a7-d8c3-471c-ad1f-dab9b9061cb9"
   },
   "outputs": [
    {
     "name": "stderr",
     "output_type": "stream",
     "text": [
      "C:\\ProgramData\\Anaconda3\\lib\\site-packages\\ipykernel_launcher.py:1: RuntimeWarning: invalid value encountered in true_divide\n",
      "  \"\"\"Entry point for launching an IPython kernel.\n"
     ]
    }
   ],
   "source": [
    "result_pulsar['pace_GP']  = np.divide(result_pulsar['Count of GP, u'], result_pulsar['Session'])"
   ]
  },
  {
   "cell_type": "code",
   "execution_count": 0,
   "metadata": {
    "colab": {},
    "colab_type": "code",
    "id": "UpgY0lelP9kK",
    "outputId": "a07a073e-e851-4154-ab3d-c0ff76a38d6c",
    "scrolled": true
   },
   "outputs": [
    {
     "data": {
      "text/html": [
       "<div>\n",
       "<style scoped>\n",
       "    .dataframe tbody tr th:only-of-type {\n",
       "        vertical-align: middle;\n",
       "    }\n",
       "\n",
       "    .dataframe tbody tr th {\n",
       "        vertical-align: top;\n",
       "    }\n",
       "\n",
       "    .dataframe thead th {\n",
       "        text-align: right;\n",
       "    }\n",
       "</style>\n",
       "<table border=\"1\" class=\"dataframe\">\n",
       "  <thead>\n",
       "    <tr style=\"text-align: right;\">\n",
       "      <th></th>\n",
       "      <th>Count of GP, u</th>\n",
       "      <th>Session</th>\n",
       "      <th>pace_GP</th>\n",
       "    </tr>\n",
       "    <tr>\n",
       "      <th>Time_series</th>\n",
       "      <th></th>\n",
       "      <th></th>\n",
       "      <th></th>\n",
       "    </tr>\n",
       "  </thead>\n",
       "  <tbody>\n",
       "    <tr>\n",
       "      <th>2013-10-31</th>\n",
       "      <td>1</td>\n",
       "      <td>7</td>\n",
       "      <td>0.142857</td>\n",
       "    </tr>\n",
       "    <tr>\n",
       "      <th>2013-11-30</th>\n",
       "      <td>1</td>\n",
       "      <td>9</td>\n",
       "      <td>0.111111</td>\n",
       "    </tr>\n",
       "    <tr>\n",
       "      <th>2013-12-31</th>\n",
       "      <td>3</td>\n",
       "      <td>14</td>\n",
       "      <td>0.214286</td>\n",
       "    </tr>\n",
       "    <tr>\n",
       "      <th>2014-01-31</th>\n",
       "      <td>2</td>\n",
       "      <td>10</td>\n",
       "      <td>0.200000</td>\n",
       "    </tr>\n",
       "    <tr>\n",
       "      <th>2014-02-28</th>\n",
       "      <td>2</td>\n",
       "      <td>11</td>\n",
       "      <td>0.181818</td>\n",
       "    </tr>\n",
       "  </tbody>\n",
       "</table>\n",
       "</div>"
      ],
      "text/plain": [
       "             Count of GP, u  Session   pace_GP\n",
       "Time_series                                   \n",
       "2013-10-31                1        7  0.142857\n",
       "2013-11-30                1        9  0.111111\n",
       "2013-12-31                3       14  0.214286\n",
       "2014-01-31                2       10  0.200000\n",
       "2014-02-28                2       11  0.181818"
      ]
     },
     "execution_count": 102,
     "metadata": {
      "tags": []
     },
     "output_type": "execute_result"
    }
   ],
   "source": [
    "result_pulsar.head()"
   ]
  },
  {
   "cell_type": "code",
   "execution_count": 0,
   "metadata": {
    "colab": {},
    "colab_type": "code",
    "id": "BiirvGH6P9kO"
   },
   "outputs": [],
   "source": [
    "#plt.close()\n",
    "#ax = result_pulsar.reset_index().plot.bar(x='Time_series', y='pace_GP', figsize=(25, 8), color='b')\n",
    "## ax\n",
    "#ax.set_title(pulsar_name, fontsize = 20.0)\n",
    "#ax.set_ylabel('Pace of giant pulses, counts/month', fontsize = 20.0)\n",
    "#path_ax = ('C:\\\\astrophysics\\\\' + pulsar_name + '_pace_of_gp' + '.png')\n",
    "#plt.savefig(path_ax, format = 'png', dpi = 300, bbox_inches='tight')"
   ]
  },
  {
   "cell_type": "code",
   "execution_count": 0,
   "metadata": {
    "colab": {},
    "colab_type": "code",
    "id": "Vu8Er-C0P9kQ",
    "scrolled": false
   },
   "outputs": [],
   "source": [
    "#plt.close()\n",
    "#ax = result_pulsar.reset_index().plot.bar(x='Time_series', y=['Session', 'pace_GP'], figsize=(25, 8), stacked=False, width=0.95)\n",
    "## ax\n",
    "#ax.set_title(pulsar_name, fontsize = 20.0)\n",
    "#ax.set_ylabel('Pace of generation of GP/Pace of sessions, counts/month', fontsize = 20.0)\n",
    "#path_ax = ('C:\\\\astrophysics\\\\' + pulsar_name + '_sessions&pace' + '.png')\n",
    "#plt.savefig(path_ax, format = 'png', dpi = 300, bbox_inches='tight')"
   ]
  },
  {
   "cell_type": "code",
   "execution_count": 0,
   "metadata": {
    "colab": {},
    "colab_type": "code",
    "id": "oWYLbfivP9kU"
   },
   "outputs": [],
   "source": [
    "#a = [result_pulsar['pace_GP'], result_pulsar['Session']]"
   ]
  },
  {
   "cell_type": "code",
   "execution_count": 0,
   "metadata": {
    "colab": {},
    "colab_type": "code",
    "id": "MCK5XucbP9kZ"
   },
   "outputs": [],
   "source": [
    "#a.plot.bar()"
   ]
  },
  {
   "cell_type": "code",
   "execution_count": 0,
   "metadata": {
    "colab": {},
    "colab_type": "code",
    "id": "dE9F25gkP9kc"
   },
   "outputs": [],
   "source": [
    "#len(result_pulsar['pace_GP'])"
   ]
  },
  {
   "cell_type": "code",
   "execution_count": 0,
   "metadata": {
    "colab": {},
    "colab_type": "code",
    "id": "HlGSekRXP9kh",
    "outputId": "357d116a-5f7c-4162-ddd6-a055a59d544a"
   },
   "outputs": [
    {
     "data": {
      "text/plain": [
       "0.9375"
      ]
     },
     "execution_count": 108,
     "metadata": {
      "tags": []
     },
     "output_type": "execute_result"
    }
   ],
   "source": [
    "max(result_pulsar['pace_GP'])\n"
   ]
  },
  {
   "cell_type": "code",
   "execution_count": 0,
   "metadata": {
    "colab": {},
    "colab_type": "code",
    "id": "PXprivyVP9km",
    "outputId": "0e59cebe-9d78-4191-824b-190f3dc803c3"
   },
   "outputs": [
    {
     "data": {
      "text/plain": [
       "0.0"
      ]
     },
     "execution_count": 109,
     "metadata": {
      "tags": []
     },
     "output_type": "execute_result"
    }
   ],
   "source": [
    "min(result_pulsar['pace_GP'])"
   ]
  },
  {
   "cell_type": "code",
   "execution_count": 0,
   "metadata": {
    "colab": {},
    "colab_type": "code",
    "id": "YCxbq87WP9kq",
    "outputId": "6af01342-d54e-4095-c2b3-de4b7f0a8609"
   },
   "outputs": [
    {
     "data": {
      "text/plain": [
       "[0.0,\n",
       " 0.0,\n",
       " 0.0,\n",
       " 0.0,\n",
       " 0.0,\n",
       " 0.0,\n",
       " 0.0,\n",
       " 0.043478260869565216,\n",
       " 0.06666666666666667,\n",
       " 0.06666666666666667,\n",
       " 0.08333333333333333,\n",
       " 0.09090909090909091,\n",
       " 0.0967741935483871,\n",
       " 0.1,\n",
       " 0.1111111111111111,\n",
       " 0.1111111111111111,\n",
       " 0.125,\n",
       " 0.125,\n",
       " 0.13043478260869565,\n",
       " 0.14285714285714285,\n",
       " 0.14285714285714285,\n",
       " 0.14814814814814814,\n",
       " 0.16666666666666666,\n",
       " 0.18181818181818182,\n",
       " 0.2,\n",
       " 0.2,\n",
       " 0.20689655172413793,\n",
       " 0.21052631578947367,\n",
       " 0.21428571428571427,\n",
       " 0.2222222222222222,\n",
       " 0.24,\n",
       " 0.2413793103448276,\n",
       " 0.25,\n",
       " 0.25925925925925924,\n",
       " 0.2692307692307692,\n",
       " 0.27586206896551724,\n",
       " 0.3333333333333333,\n",
       " 0.3333333333333333,\n",
       " 0.36363636363636365,\n",
       " 0.36363636363636365,\n",
       " nan,\n",
       " 0.2222222222222222,\n",
       " 0.375,\n",
       " 0.6296296296296297,\n",
       " 0.9375,\n",
       " nan,\n",
       " nan,\n",
       " 0.35714285714285715,\n",
       " nan,\n",
       " nan,\n",
       " nan,\n",
       " 0.375,\n",
       " 0.5,\n",
       " 0.7,\n",
       " 0.9]"
      ]
     },
     "execution_count": 110,
     "metadata": {
      "tags": []
     },
     "output_type": "execute_result"
    }
   ],
   "source": [
    "sorted(result_pulsar['pace_GP'])"
   ]
  },
  {
   "cell_type": "markdown",
   "metadata": {
    "colab_type": "text",
    "id": "XLnVPl7eP9ku"
   },
   "source": [
    "### Темпы генерации\n",
    "- **0809+74** - 0,00 - 0,57\n",
    "- **0950+08** - 0,25 - 11,83\n",
    "- **1112+50** - 0,00 - 9,625\n",
    "- **1133+16** - 0,00 - 0,938\n",
    "- **1237+25** - 0,00 - 1,700"
   ]
  },
  {
   "cell_type": "code",
   "execution_count": 0,
   "metadata": {
    "colab": {},
    "colab_type": "code",
    "id": "lr8J5FhOP9kv"
   },
   "outputs": [],
   "source": []
  }
 ],
 "metadata": {
  "colab": {
   "name": "analyze_tab_pulsar.ipynb",
   "provenance": [],
   "version": "0.3.2"
  },
  "kernelspec": {
   "display_name": "Python 3",
   "language": "python",
   "name": "python3"
  },
  "language_info": {
   "codemirror_mode": {
    "name": "ipython",
    "version": 3
   },
   "file_extension": ".py",
   "mimetype": "text/x-python",
   "name": "python",
   "nbconvert_exporter": "python",
   "pygments_lexer": "ipython3",
   "version": "3.7.4"
  }
 },
 "nbformat": 4,
 "nbformat_minor": 1
}
