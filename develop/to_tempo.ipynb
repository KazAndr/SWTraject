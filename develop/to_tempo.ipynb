{
 "cells": [
  {
   "cell_type": "markdown",
   "metadata": {},
   "source": [
    "Файл для создания МПИ для темпо"
   ]
  },
  {
   "cell_type": "code",
   "execution_count": 3,
   "metadata": {},
   "outputs": [],
   "source": [
    "import sys\n",
    "import platform\n",
    "import pandas as pd"
   ]
  },
  {
   "cell_type": "code",
   "execution_count": 9,
   "metadata": {},
   "outputs": [],
   "source": [
    "if 'Windows' in platform.platform() and '8.1' in platform.release():\n",
    "    _ = \"C:\\\\Users\\\\Andrey\\\\YandexDisk\\\\3.Programing\\\\\"\n",
    "    DATA_DIR = _ + \"work\\\\PulseViewer\\\\pulsarsData\\\\\"\n",
    "    PATTERN_DIR = _ + \"work\\\\PulseViewer\\\\frame_of_AP\\\\patterns\\\\\"\n",
    "    PACK_DIR = _ + \"myPacks\\\\\"\n",
    "    DELIMITER = \"\\\\\"\n",
    "\n",
    "elif 'Windows' in platform.platform() and '7' in platform.release():\n",
    "    _ = \"E:\\\\Disk.Yandex\\\\3.Programing\\\\\"\n",
    "    DATA_DIR = \"work\\\\PulseViewer\\\\pulsarsData\\\\\"\n",
    "    PATTERN_DIR = _ + \"work\\\\PulseViewer\\\\frame_of_AP\\\\patterns\\\\\"\n",
    "    PACK_DIR = _ + \"myPacks\\\\\"\n",
    "    DELIMITER = \"\\\\\"\n",
    "\n",
    "elif 'Windows' in platform.platform() and '10' in platform.release():\n",
    "    _ = \"F:\\\\YandexDisk\\\\3.Programing\\\\\"\n",
    "    DATA_DIR = _ + \"work\\\\PulseViewer\\\\pulsarsData\\\\\"\n",
    "    PATTERN_DIR = _ + \"work\\\\PulseViewer\\\\frame_of_AP\\\\patterns\\\\\"\n",
    "    PACK_DIR = _ + \"myPacks\\\\\"\n",
    "    ALL_DATA = \"F:\\\\YandexDisk\\\\1.Работа\\\\Результаты обработки\\\\\"\n",
    "    DELIMITER = \"\\\\\"    \n",
    "    \n",
    "elif 'Linux' in platform.platform() and '4.4.0' in platform.release():\n",
    "    _ = \"/home/andr/Yandex.Disk/3.Programing/\"\n",
    "    DATA_DIR = _ + \"work/PulseViewer/pulsarsData/\"\n",
    "    PATTERN_DIR = _ + \"/work/PulseViewer/frame_of_AP/patterns/\"\n",
    "    PACK_DIR = _ + \"myPacks/\"\n",
    "    ALL_DATA = \"/home/andr/Yandex.Disk/1.Работа/Результаты обработки/\"\n",
    "    DELIMITER = \"/\"\n",
    "    \n",
    "else:\n",
    "    print('unknown system', platform.platform(), platform.release())\n",
    "\n",
    "sys.path.append(PACK_DIR)\n",
    "from PRAO import *\n",
    "from TOA import *"
   ]
  },
  {
   "cell_type": "code",
   "execution_count": 5,
   "metadata": {},
   "outputs": [],
   "source": [
    "gp_table = pd.read_table('crab_gp_kaz_pulses.csv', sep='\\t')"
   ]
  },
  {
   "cell_type": "code",
   "execution_count": 6,
   "metadata": {},
   "outputs": [
    {
     "data": {
      "text/html": [
       "<div>\n",
       "<style scoped>\n",
       "    .dataframe tbody tr th:only-of-type {\n",
       "        vertical-align: middle;\n",
       "    }\n",
       "\n",
       "    .dataframe tbody tr th {\n",
       "        vertical-align: top;\n",
       "    }\n",
       "\n",
       "    .dataframe thead th {\n",
       "        text-align: right;\n",
       "    }\n",
       "</style>\n",
       "<table border=\"1\" class=\"dataframe\">\n",
       "  <thead>\n",
       "    <tr style=\"text-align: right;\">\n",
       "      <th></th>\n",
       "      <th>Date</th>\n",
       "      <th>Time start</th>\n",
       "      <th>point of gp, point</th>\n",
       "      <th>MJD</th>\n",
       "      <th>amp_GP</th>\n",
       "      <th>E, Jy*ms</th>\n",
       "      <th>W50, point</th>\n",
       "      <th>W10, point</th>\n",
       "      <th>Period, s</th>\n",
       "      <th>Numpointwin, point</th>\n",
       "      <th>Tay, ms</th>\n",
       "      <th>Median, adc u</th>\n",
       "      <th>STD, adc u</th>\n",
       "    </tr>\n",
       "  </thead>\n",
       "  <tbody>\n",
       "    <tr>\n",
       "      <th>0</th>\n",
       "      <td>05.09.2010</td>\n",
       "      <td>07:04:25.4187240</td>\n",
       "      <td>21354</td>\n",
       "      <td>55444.128679</td>\n",
       "      <td>1813.415960</td>\n",
       "      <td>85440.017362</td>\n",
       "      <td>19.17135</td>\n",
       "      <td>99.00000</td>\n",
       "      <td>5.988559</td>\n",
       "      <td>2430</td>\n",
       "      <td>2.4576</td>\n",
       "      <td>1720.0</td>\n",
       "      <td>11.285902</td>\n",
       "    </tr>\n",
       "    <tr>\n",
       "      <th>1</th>\n",
       "      <td>09.09.2010</td>\n",
       "      <td>06:48:41.8374290</td>\n",
       "      <td>45640</td>\n",
       "      <td>55448.118449</td>\n",
       "      <td>1841.280215</td>\n",
       "      <td>87380.038994</td>\n",
       "      <td>19.30995</td>\n",
       "      <td>54.57375</td>\n",
       "      <td>5.988578</td>\n",
       "      <td>2430</td>\n",
       "      <td>2.4576</td>\n",
       "      <td>1720.0</td>\n",
       "      <td>12.771049</td>\n",
       "    </tr>\n",
       "    <tr>\n",
       "      <th>2</th>\n",
       "      <td>12.09.2010</td>\n",
       "      <td>06:36:54.1340866</td>\n",
       "      <td>36629</td>\n",
       "      <td>55451.110002</td>\n",
       "      <td>1833.193160</td>\n",
       "      <td>88066.707345</td>\n",
       "      <td>19.54755</td>\n",
       "      <td>63.99360</td>\n",
       "      <td>5.988594</td>\n",
       "      <td>2430</td>\n",
       "      <td>2.4576</td>\n",
       "      <td>1720.0</td>\n",
       "      <td>11.308971</td>\n",
       "    </tr>\n",
       "    <tr>\n",
       "      <th>3</th>\n",
       "      <td>17.09.2010</td>\n",
       "      <td>06:17:14.6399831</td>\n",
       "      <td>41855</td>\n",
       "      <td>55456.096499</td>\n",
       "      <td>1826.751170</td>\n",
       "      <td>84423.836687</td>\n",
       "      <td>18.80505</td>\n",
       "      <td>39.28815</td>\n",
       "      <td>5.988624</td>\n",
       "      <td>2430</td>\n",
       "      <td>2.4576</td>\n",
       "      <td>1720.0</td>\n",
       "      <td>12.099526</td>\n",
       "    </tr>\n",
       "    <tr>\n",
       "      <th>4</th>\n",
       "      <td>17.10.2010</td>\n",
       "      <td>04:19:17.6313152</td>\n",
       "      <td>27361</td>\n",
       "      <td>55486.014177</td>\n",
       "      <td>1952.176380</td>\n",
       "      <td>103329.549129</td>\n",
       "      <td>21.53745</td>\n",
       "      <td>74.91825</td>\n",
       "      <td>5.988894</td>\n",
       "      <td>2430</td>\n",
       "      <td>2.4576</td>\n",
       "      <td>1720.0</td>\n",
       "      <td>16.700985</td>\n",
       "    </tr>\n",
       "  </tbody>\n",
       "</table>\n",
       "</div>"
      ],
      "text/plain": [
       "         Date        Time start  point of gp, point           MJD  \\\n",
       "0  05.09.2010  07:04:25.4187240               21354  55444.128679   \n",
       "1  09.09.2010  06:48:41.8374290               45640  55448.118449   \n",
       "2  12.09.2010  06:36:54.1340866               36629  55451.110002   \n",
       "3  17.09.2010  06:17:14.6399831               41855  55456.096499   \n",
       "4  17.10.2010  04:19:17.6313152               27361  55486.014177   \n",
       "\n",
       "        amp_GP       E, Jy*ms  W50, point  W10, point  Period, s  \\\n",
       "0  1813.415960   85440.017362    19.17135    99.00000   5.988559   \n",
       "1  1841.280215   87380.038994    19.30995    54.57375   5.988578   \n",
       "2  1833.193160   88066.707345    19.54755    63.99360   5.988594   \n",
       "3  1826.751170   84423.836687    18.80505    39.28815   5.988624   \n",
       "4  1952.176380  103329.549129    21.53745    74.91825   5.988894   \n",
       "\n",
       "   Numpointwin, point  Tay, ms  Median, adc u  STD, adc u  \n",
       "0                2430   2.4576         1720.0   11.285902  \n",
       "1                2430   2.4576         1720.0   12.771049  \n",
       "2                2430   2.4576         1720.0   11.308971  \n",
       "3                2430   2.4576         1720.0   12.099526  \n",
       "4                2430   2.4576         1720.0   16.700985  "
      ]
     },
     "execution_count": 6,
     "metadata": {},
     "output_type": "execute_result"
    }
   ],
   "source": [
    "gp_table.head()"
   ]
  },
  {
   "cell_type": "code",
   "execution_count": 7,
   "metadata": {},
   "outputs": [],
   "source": [
    "list_mjd = list(gp_table['MJD'])"
   ]
  },
  {
   "cell_type": "code",
   "execution_count": 10,
   "metadata": {},
   "outputs": [],
   "source": [
    "list_err = [(i/2) * 1000 for i in gp_table['Tay, ms']]"
   ]
  },
  {
   "cell_type": "code",
   "execution_count": 12,
   "metadata": {},
   "outputs": [],
   "source": [
    "header = {\n",
    "    'name' : '0531+21',\n",
    "    'tay' : '2.4576',\n",
    "}"
   ]
  },
  {
   "cell_type": "code",
   "execution_count": 13,
   "metadata": {},
   "outputs": [],
   "source": [
    "write_tempo(header, list_mjd, list_err, 't1')"
   ]
  },
  {
   "cell_type": "code",
   "execution_count": 14,
   "metadata": {},
   "outputs": [],
   "source": [
    "days = []\n",
    "MJDs = []\n",
    "tays = []\n",
    "errs = []\n",
    "for index, row in gp_table.iterrows():\n",
    "    if row['Date'] not in days:\n",
    "        days.append(row['Date'])\n",
    "        MJDs.append(row['MJD'])\n",
    "        tays.append(row['Tay, ms'])\n",
    "        errs.append((row['Tay, ms']/2) * 1000)"
   ]
  },
  {
   "cell_type": "code",
   "execution_count": 18,
   "metadata": {},
   "outputs": [],
   "source": [
    "write_tempo(header, MJDs, errs, '_oneday')"
   ]
  },
  {
   "cell_type": "code",
   "execution_count": null,
   "metadata": {},
   "outputs": [],
   "source": []
  }
 ],
 "metadata": {
  "kernelspec": {
   "display_name": "Python 3",
   "language": "python",
   "name": "python3"
  },
  "language_info": {
   "codemirror_mode": {
    "name": "ipython",
    "version": 3
   },
   "file_extension": ".py",
   "mimetype": "text/x-python",
   "name": "python",
   "nbconvert_exporter": "python",
   "pygments_lexer": "ipython3",
   "version": "3.7.4"
  }
 },
 "nbformat": 4,
 "nbformat_minor": 2
}
