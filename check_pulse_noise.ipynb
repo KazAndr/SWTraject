{
 "cells": [
  {
   "cell_type": "code",
   "execution_count": 2,
   "metadata": {},
   "outputs": [],
   "source": [
    "import os \n",
    "import glob\n",
    "import datetime\n",
    "\n",
    "import numpy as np\n",
    "import pandas as pd\n",
    "import matplotlib.pyplot as plt"
   ]
  },
  {
   "cell_type": "code",
   "execution_count": 49,
   "metadata": {},
   "outputs": [],
   "source": [
    "gp_table = pd.read_table('./results_by_08.05.2019/crab_gp_kaz_10_2016-2018_calib_typed.csv', sep='\\t')\n",
    "gp_table['Type'] = None"
   ]
  },
  {
   "cell_type": "code",
   "execution_count": 50,
   "metadata": {},
   "outputs": [
    {
     "data": {
      "text/html": [
       "<div>\n",
       "<style scoped>\n",
       "    .dataframe tbody tr th:only-of-type {\n",
       "        vertical-align: middle;\n",
       "    }\n",
       "\n",
       "    .dataframe tbody tr th {\n",
       "        vertical-align: top;\n",
       "    }\n",
       "\n",
       "    .dataframe thead th {\n",
       "        text-align: right;\n",
       "    }\n",
       "</style>\n",
       "<table border=\"1\" class=\"dataframe\">\n",
       "  <thead>\n",
       "    <tr style=\"text-align: right;\">\n",
       "      <th></th>\n",
       "      <th>Date</th>\n",
       "      <th>Time start</th>\n",
       "      <th>Tay, ms</th>\n",
       "      <th>Period, s</th>\n",
       "      <th>Numpointwin, point</th>\n",
       "      <th>Numpulse, a.u.</th>\n",
       "      <th>Median, adc u</th>\n",
       "      <th>STD, adc u</th>\n",
       "      <th>path obs plot</th>\n",
       "      <th>path obs data</th>\n",
       "      <th>Count of GP, u</th>\n",
       "      <th>point of gp, point</th>\n",
       "      <th>amp of gp, adc u</th>\n",
       "      <th>W50, point</th>\n",
       "      <th>W10, point</th>\n",
       "      <th>path plot</th>\n",
       "      <th>fName</th>\n",
       "      <th>Type</th>\n",
       "    </tr>\n",
       "  </thead>\n",
       "  <tbody>\n",
       "    <tr>\n",
       "      <td>0</td>\n",
       "      <td>09.09.2010</td>\n",
       "      <td>06:48:41.8374290</td>\n",
       "      <td>2.4576</td>\n",
       "      <td>5.988578</td>\n",
       "      <td>2430</td>\n",
       "      <td>34</td>\n",
       "      <td>1719.858245</td>\n",
       "      <td>8.060292</td>\n",
       "      <td>./obs_plot/09.09.2010_plot_0531+21.png</td>\n",
       "      <td>./obs_data/09.09.2010_obs_0531+21.csv</td>\n",
       "      <td>1</td>\n",
       "      <td>45640</td>\n",
       "      <td>121.161705</td>\n",
       "      <td>19.32975</td>\n",
       "      <td>54.61335</td>\n",
       "      <td>./gp_plot/09.09.2010_plot_0531+21_0.png</td>\n",
       "      <td>./gp_plot_txt/09.09.2010_plot_0531+21_1.csv</td>\n",
       "      <td>None</td>\n",
       "    </tr>\n",
       "    <tr>\n",
       "      <td>1</td>\n",
       "      <td>12.09.2010</td>\n",
       "      <td>06:36:54.1340866</td>\n",
       "      <td>2.4576</td>\n",
       "      <td>5.988594</td>\n",
       "      <td>2430</td>\n",
       "      <td>34</td>\n",
       "      <td>1719.899890</td>\n",
       "      <td>7.515294</td>\n",
       "      <td>./obs_plot/12.09.2010_plot_0531+21.png</td>\n",
       "      <td>./obs_data/12.09.2010_obs_0531+21.csv</td>\n",
       "      <td>1</td>\n",
       "      <td>36629</td>\n",
       "      <td>111.648630</td>\n",
       "      <td>19.41885</td>\n",
       "      <td>63.82035</td>\n",
       "      <td>./gp_plot/12.09.2010_plot_0531+21_0.png</td>\n",
       "      <td>./gp_plot_txt/12.09.2010_plot_0531+21_1.csv</td>\n",
       "      <td>None</td>\n",
       "    </tr>\n",
       "    <tr>\n",
       "      <td>2</td>\n",
       "      <td>17.09.2010</td>\n",
       "      <td>06:17:14.6399831</td>\n",
       "      <td>2.4576</td>\n",
       "      <td>5.988624</td>\n",
       "      <td>2430</td>\n",
       "      <td>34</td>\n",
       "      <td>1719.914380</td>\n",
       "      <td>7.683190</td>\n",
       "      <td>./obs_plot/17.09.2010_plot_0531+21.png</td>\n",
       "      <td>./obs_data/17.09.2010_obs_0531+21.csv</td>\n",
       "      <td>1</td>\n",
       "      <td>41855</td>\n",
       "      <td>105.871420</td>\n",
       "      <td>18.77040</td>\n",
       "      <td>39.25350</td>\n",
       "      <td>./gp_plot/17.09.2010_plot_0531+21_0.png</td>\n",
       "      <td>./gp_plot_txt/17.09.2010_plot_0531+21_1.csv</td>\n",
       "      <td>None</td>\n",
       "    </tr>\n",
       "    <tr>\n",
       "      <td>3</td>\n",
       "      <td>17.10.2010</td>\n",
       "      <td>04:19:17.6313152</td>\n",
       "      <td>2.4576</td>\n",
       "      <td>5.988894</td>\n",
       "      <td>2430</td>\n",
       "      <td>34</td>\n",
       "      <td>1719.841330</td>\n",
       "      <td>11.058682</td>\n",
       "      <td>./obs_plot/17.10.2010_plot_0531+21.png</td>\n",
       "      <td>./obs_data/17.10.2010_obs_0531+21.csv</td>\n",
       "      <td>1</td>\n",
       "      <td>27361</td>\n",
       "      <td>232.496190</td>\n",
       "      <td>21.39390</td>\n",
       "      <td>59.65245</td>\n",
       "      <td>./gp_plot/17.10.2010_plot_0531+21_0.png</td>\n",
       "      <td>./gp_plot_txt/17.10.2010_plot_0531+21_1.csv</td>\n",
       "      <td>None</td>\n",
       "    </tr>\n",
       "    <tr>\n",
       "      <td>4</td>\n",
       "      <td>17.10.2010</td>\n",
       "      <td>04:19:17.6313152</td>\n",
       "      <td>2.4576</td>\n",
       "      <td>5.988894</td>\n",
       "      <td>2430</td>\n",
       "      <td>34</td>\n",
       "      <td>1719.841330</td>\n",
       "      <td>11.058682</td>\n",
       "      <td>./obs_plot/17.10.2010_plot_0531+21.png</td>\n",
       "      <td>./obs_data/17.10.2010_obs_0531+21.csv</td>\n",
       "      <td>1</td>\n",
       "      <td>3239</td>\n",
       "      <td>139.469070</td>\n",
       "      <td>12.60765</td>\n",
       "      <td>41.72355</td>\n",
       "      <td>./gp_plot/17.10.2010_plot_0531+21_1.png</td>\n",
       "      <td>./gp_plot_txt/17.10.2010_plot_0531+21_2.csv</td>\n",
       "      <td>None</td>\n",
       "    </tr>\n",
       "  </tbody>\n",
       "</table>\n",
       "</div>"
      ],
      "text/plain": [
       "         Date        Time start  Tay, ms  Period, s  Numpointwin, point  \\\n",
       "0  09.09.2010  06:48:41.8374290   2.4576   5.988578                2430   \n",
       "1  12.09.2010  06:36:54.1340866   2.4576   5.988594                2430   \n",
       "2  17.09.2010  06:17:14.6399831   2.4576   5.988624                2430   \n",
       "3  17.10.2010  04:19:17.6313152   2.4576   5.988894                2430   \n",
       "4  17.10.2010  04:19:17.6313152   2.4576   5.988894                2430   \n",
       "\n",
       "   Numpulse, a.u.  Median, adc u  STD, adc u  \\\n",
       "0              34    1719.858245    8.060292   \n",
       "1              34    1719.899890    7.515294   \n",
       "2              34    1719.914380    7.683190   \n",
       "3              34    1719.841330   11.058682   \n",
       "4              34    1719.841330   11.058682   \n",
       "\n",
       "                            path obs plot  \\\n",
       "0  ./obs_plot/09.09.2010_plot_0531+21.png   \n",
       "1  ./obs_plot/12.09.2010_plot_0531+21.png   \n",
       "2  ./obs_plot/17.09.2010_plot_0531+21.png   \n",
       "3  ./obs_plot/17.10.2010_plot_0531+21.png   \n",
       "4  ./obs_plot/17.10.2010_plot_0531+21.png   \n",
       "\n",
       "                           path obs data  Count of GP, u  point of gp, point  \\\n",
       "0  ./obs_data/09.09.2010_obs_0531+21.csv               1               45640   \n",
       "1  ./obs_data/12.09.2010_obs_0531+21.csv               1               36629   \n",
       "2  ./obs_data/17.09.2010_obs_0531+21.csv               1               41855   \n",
       "3  ./obs_data/17.10.2010_obs_0531+21.csv               1               27361   \n",
       "4  ./obs_data/17.10.2010_obs_0531+21.csv               1                3239   \n",
       "\n",
       "   amp of gp, adc u  W50, point  W10, point  \\\n",
       "0        121.161705    19.32975    54.61335   \n",
       "1        111.648630    19.41885    63.82035   \n",
       "2        105.871420    18.77040    39.25350   \n",
       "3        232.496190    21.39390    59.65245   \n",
       "4        139.469070    12.60765    41.72355   \n",
       "\n",
       "                                 path plot  \\\n",
       "0  ./gp_plot/09.09.2010_plot_0531+21_0.png   \n",
       "1  ./gp_plot/12.09.2010_plot_0531+21_0.png   \n",
       "2  ./gp_plot/17.09.2010_plot_0531+21_0.png   \n",
       "3  ./gp_plot/17.10.2010_plot_0531+21_0.png   \n",
       "4  ./gp_plot/17.10.2010_plot_0531+21_1.png   \n",
       "\n",
       "                                         fName  Type  \n",
       "0  ./gp_plot_txt/09.09.2010_plot_0531+21_1.csv  None  \n",
       "1  ./gp_plot_txt/12.09.2010_plot_0531+21_1.csv  None  \n",
       "2  ./gp_plot_txt/17.09.2010_plot_0531+21_1.csv  None  \n",
       "3  ./gp_plot_txt/17.10.2010_plot_0531+21_1.csv  None  \n",
       "4  ./gp_plot_txt/17.10.2010_plot_0531+21_2.csv  None  "
      ]
     },
     "execution_count": 50,
     "metadata": {},
     "output_type": "execute_result"
    }
   ],
   "source": [
    "gp_table.head()"
   ]
  },
  {
   "cell_type": "code",
   "execution_count": 51,
   "metadata": {},
   "outputs": [],
   "source": [
    "# подкачка выборок\n",
    "type_0 = [os.path.basename(i) for i in sorted(glob.glob(\"./results_by_08.05.2019/7types/0/*\"))]\n",
    "type_1 = [os.path.basename(i) for i in sorted(glob.glob(\"./results_by_08.05.2019/7types/1/*\"))]\n",
    "type_2 = [os.path.basename(i) for i in sorted(glob.glob(\"./results_by_08.05.2019/7types/2/*\"))]\n",
    "type_3 = [os.path.basename(i) for i in sorted(glob.glob(\"./results_by_08.05.2019/7types/3/*\"))]\n",
    "type_4 = [os.path.basename(i) for i in sorted(glob.glob(\"./results_by_08.05.2019/7types/4/*\"))]\n",
    "type_5 = [os.path.basename(i) for i in sorted(glob.glob(\"./results_by_08.05.2019/7types/5/*\"))]\n",
    "type_6 = [os.path.basename(i) for i in sorted(glob.glob(\"./results_by_08.05.2019/7types/6/*\"))]"
   ]
  },
  {
   "cell_type": "code",
   "execution_count": 52,
   "metadata": {},
   "outputs": [
    {
     "data": {
      "text/plain": [
       "'01.01.2012_plot_0531+21_1.png'"
      ]
     },
     "execution_count": 52,
     "metadata": {},
     "output_type": "execute_result"
    }
   ],
   "source": [
    "type_6[0]"
   ]
  },
  {
   "cell_type": "code",
   "execution_count": 53,
   "metadata": {},
   "outputs": [
    {
     "data": {
      "text/plain": [
       "'01.01.2012_plot_0531+21_1'"
      ]
     },
     "execution_count": 53,
     "metadata": {},
     "output_type": "execute_result"
    }
   ],
   "source": [
    "os.path.basename(files[0])[:-4]"
   ]
  },
  {
   "cell_type": "code",
   "execution_count": 54,
   "metadata": {},
   "outputs": [
    {
     "name": "stderr",
     "output_type": "stream",
     "text": [
      "c:\\users\\professional\\appdata\\local\\programs\\python\\python37\\lib\\site-packages\\ipykernel_launcher.py:16: SettingWithCopyWarning: \n",
      "A value is trying to be set on a copy of a slice from a DataFrame\n",
      "\n",
      "See the caveats in the documentation: http://pandas.pydata.org/pandas-docs/stable/user_guide/indexing.html#returning-a-view-versus-a-copy\n",
      "  app.launch_new_instance()\n",
      "c:\\users\\professional\\appdata\\local\\programs\\python\\python37\\lib\\site-packages\\ipykernel_launcher.py:14: SettingWithCopyWarning: \n",
      "A value is trying to be set on a copy of a slice from a DataFrame\n",
      "\n",
      "See the caveats in the documentation: http://pandas.pydata.org/pandas-docs/stable/user_guide/indexing.html#returning-a-view-versus-a-copy\n",
      "  \n",
      "c:\\users\\professional\\appdata\\local\\programs\\python\\python37\\lib\\site-packages\\ipykernel_launcher.py:10: SettingWithCopyWarning: \n",
      "A value is trying to be set on a copy of a slice from a DataFrame\n",
      "\n",
      "See the caveats in the documentation: http://pandas.pydata.org/pandas-docs/stable/user_guide/indexing.html#returning-a-view-versus-a-copy\n",
      "  # Remove the CWD from sys.path while we load stuff.\n",
      "c:\\users\\professional\\appdata\\local\\programs\\python\\python37\\lib\\site-packages\\ipykernel_launcher.py:4: SettingWithCopyWarning: \n",
      "A value is trying to be set on a copy of a slice from a DataFrame\n",
      "\n",
      "See the caveats in the documentation: http://pandas.pydata.org/pandas-docs/stable/user_guide/indexing.html#returning-a-view-versus-a-copy\n",
      "  after removing the cwd from sys.path.\n",
      "c:\\users\\professional\\appdata\\local\\programs\\python\\python37\\lib\\site-packages\\ipykernel_launcher.py:12: SettingWithCopyWarning: \n",
      "A value is trying to be set on a copy of a slice from a DataFrame\n",
      "\n",
      "See the caveats in the documentation: http://pandas.pydata.org/pandas-docs/stable/user_guide/indexing.html#returning-a-view-versus-a-copy\n",
      "  if sys.path[0] == '':\n",
      "c:\\users\\professional\\appdata\\local\\programs\\python\\python37\\lib\\site-packages\\ipykernel_launcher.py:6: SettingWithCopyWarning: \n",
      "A value is trying to be set on a copy of a slice from a DataFrame\n",
      "\n",
      "See the caveats in the documentation: http://pandas.pydata.org/pandas-docs/stable/user_guide/indexing.html#returning-a-view-versus-a-copy\n",
      "  \n",
      "c:\\users\\professional\\appdata\\local\\programs\\python\\python37\\lib\\site-packages\\ipykernel_launcher.py:8: SettingWithCopyWarning: \n",
      "A value is trying to be set on a copy of a slice from a DataFrame\n",
      "\n",
      "See the caveats in the documentation: http://pandas.pydata.org/pandas-docs/stable/user_guide/indexing.html#returning-a-view-versus-a-copy\n",
      "  \n"
     ]
    }
   ],
   "source": [
    "for idx, fName in enumerate(gp_table['fName']):\n",
    "    fName = fName[:-4] + '.png'\n",
    "    if os.path.basename(fName) in type_0:\n",
    "        gp_table['Type'][idx] = 0\n",
    "    elif os.path.basename(fName) in type_1:\n",
    "        gp_table['Type'][idx] = 1\n",
    "    elif os.path.basename(fName) in type_2:\n",
    "        gp_table['Type'][idx] = 2\n",
    "    elif os.path.basename(fName) in type_3:\n",
    "        gp_table['Type'][idx] = 3\n",
    "    elif os.path.basename(fName) in type_4:\n",
    "        gp_table['Type'][idx] = 4\n",
    "    elif os.path.basename(fName) in type_5:\n",
    "        gp_table['Type'][idx] = 5\n",
    "    elif os.path.basename(fName) in type_6:\n",
    "        gp_table['Type'][idx] = 6\n",
    "    else:\n",
    "        print('Undetected')"
   ]
  },
  {
   "cell_type": "code",
   "execution_count": 57,
   "metadata": {},
   "outputs": [],
   "source": [
    "gp_table.to_csv('crab_gp_kaz_10_2016-2018_calib_7types.csv', sep='\\t', header=True, index=False)"
   ]
  },
  {
   "cell_type": "code",
   "execution_count": 37,
   "metadata": {},
   "outputs": [
    {
     "data": {
      "text/plain": [
       "2623"
      ]
     },
     "execution_count": 37,
     "metadata": {},
     "output_type": "execute_result"
    }
   ],
   "source": []
  },
  {
   "cell_type": "code",
   "execution_count": 46,
   "metadata": {},
   "outputs": [
    {
     "ename": "NameError",
     "evalue": "name 'type_7' is not defined",
     "output_type": "error",
     "traceback": [
      "\u001b[1;31m---------------------------------------------------------------------------\u001b[0m",
      "\u001b[1;31mNameError\u001b[0m                                 Traceback (most recent call last)",
      "\u001b[1;32m<ipython-input-46-2fc030ecd6de>\u001b[0m in \u001b[0;36m<module>\u001b[1;34m\u001b[0m\n\u001b[1;32m----> 1\u001b[1;33m \u001b[0mos\u001b[0m\u001b[1;33m.\u001b[0m\u001b[0mpath\u001b[0m\u001b[1;33m.\u001b[0m\u001b[0mbasename\u001b[0m\u001b[1;33m(\u001b[0m\u001b[0mfName\u001b[0m\u001b[1;33m)\u001b[0m \u001b[1;32min\u001b[0m \u001b[0mtype_7\u001b[0m\u001b[1;33m\u001b[0m\u001b[1;33m\u001b[0m\u001b[0m\n\u001b[0m",
      "\u001b[1;31mNameError\u001b[0m: name 'type_7' is not defined"
     ]
    }
   ],
   "source": [
    "os.path.basename(fName) in type_"
   ]
  },
  {
   "cell_type": "code",
   "execution_count": 41,
   "metadata": {},
   "outputs": [
    {
     "data": {
      "text/plain": [
       "'./gp_plot/07.05.2018_plot_0531+21_0.png'"
      ]
     },
     "execution_count": 41,
     "metadata": {},
     "output_type": "execute_result"
    }
   ],
   "source": [
    "fName"
   ]
  },
  {
   "cell_type": "code",
   "execution_count": null,
   "metadata": {},
   "outputs": [],
   "source": []
  }
 ],
 "metadata": {
  "kernelspec": {
   "display_name": "Python 3",
   "language": "python",
   "name": "python3"
  },
  "language_info": {
   "codemirror_mode": {
    "name": "ipython",
    "version": 3
   },
   "file_extension": ".py",
   "mimetype": "text/x-python",
   "name": "python",
   "nbconvert_exporter": "python",
   "pygments_lexer": "ipython3",
   "version": "3.7.4"
  }
 },
 "nbformat": 4,
 "nbformat_minor": 2
}
