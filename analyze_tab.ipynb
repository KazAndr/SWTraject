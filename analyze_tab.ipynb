{
 "cells": [
  {
   "cell_type": "code",
   "execution_count": 2,
   "metadata": {},
   "outputs": [],
   "source": [
    "import os\n",
    "import sys\n",
    "import glob\n",
    "import datetime\n",
    "from functools import reduce\n",
    "\n",
    "import numpy as np\n",
    "import pandas as pd\n",
    "\n",
    "import matplotlib.pyplot as plt\n",
    "import matplotlib.dates as mdates\n",
    "import matplotlib.ticker as ticker"
   ]
  },
  {
   "cell_type": "code",
   "execution_count": 3,
   "metadata": {},
   "outputs": [],
   "source": [
    "gp_table = pd.read_table('crab_gp_kaz_10_2010-2018.csv', sep='\\t')"
   ]
  },
  {
   "cell_type": "markdown",
   "metadata": {},
   "source": [
    "## Добавление разного рода колонок через функции"
   ]
  },
  {
   "cell_type": "code",
   "execution_count": 4,
   "metadata": {},
   "outputs": [],
   "source": [
    "gp_table['amp_GP']  = np.subtract(gp_table['amp of gp, adc u'], gp_table['Median, adc u'])"
   ]
  },
  {
   "cell_type": "code",
   "execution_count": 5,
   "metadata": {},
   "outputs": [],
   "source": [
    "gp_table['Time_series'] = pd.to_datetime(gp_table['Date'], format='%d.%m.%Y', errors='ignore')"
   ]
  },
  {
   "cell_type": "code",
   "execution_count": 6,
   "metadata": {},
   "outputs": [],
   "source": [
    "gp_table = gp_table.set_index('Time_series')"
   ]
  },
  {
   "cell_type": "code",
   "execution_count": 33,
   "metadata": {},
   "outputs": [
    {
     "data": {
      "text/html": [
       "<div>\n",
       "<style scoped>\n",
       "    .dataframe tbody tr th:only-of-type {\n",
       "        vertical-align: middle;\n",
       "    }\n",
       "\n",
       "    .dataframe tbody tr th {\n",
       "        vertical-align: top;\n",
       "    }\n",
       "\n",
       "    .dataframe thead th {\n",
       "        text-align: right;\n",
       "    }\n",
       "</style>\n",
       "<table border=\"1\" class=\"dataframe\">\n",
       "  <thead>\n",
       "    <tr style=\"text-align: right;\">\n",
       "      <th></th>\n",
       "      <th>Date</th>\n",
       "      <th>Time start</th>\n",
       "      <th>Tay, ms</th>\n",
       "      <th>Period, s</th>\n",
       "      <th>Numpointwin, point</th>\n",
       "      <th>Numpulse, a.u.</th>\n",
       "      <th>Median, adc u</th>\n",
       "      <th>STD, adc u</th>\n",
       "      <th>path obs plot</th>\n",
       "      <th>path obs data</th>\n",
       "      <th>Count of GP, u</th>\n",
       "      <th>point of gp, point</th>\n",
       "      <th>amp of gp, adc u</th>\n",
       "      <th>W50, point</th>\n",
       "      <th>W10, point</th>\n",
       "      <th>path plot</th>\n",
       "      <th>amp_GP</th>\n",
       "    </tr>\n",
       "    <tr>\n",
       "      <th>Time_series</th>\n",
       "      <th></th>\n",
       "      <th></th>\n",
       "      <th></th>\n",
       "      <th></th>\n",
       "      <th></th>\n",
       "      <th></th>\n",
       "      <th></th>\n",
       "      <th></th>\n",
       "      <th></th>\n",
       "      <th></th>\n",
       "      <th></th>\n",
       "      <th></th>\n",
       "      <th></th>\n",
       "      <th></th>\n",
       "      <th></th>\n",
       "      <th></th>\n",
       "      <th></th>\n",
       "    </tr>\n",
       "  </thead>\n",
       "  <tbody>\n",
       "    <tr>\n",
       "      <th>2010-09-12</th>\n",
       "      <td>12.09.2010</td>\n",
       "      <td>06:36:54.1340866</td>\n",
       "      <td>2.4576</td>\n",
       "      <td>5.988594</td>\n",
       "      <td>2430</td>\n",
       "      <td>34</td>\n",
       "      <td>481.97550</td>\n",
       "      <td>11.308971</td>\n",
       "      <td>./obs_plot/12.09.2010_plot_0531+21.png</td>\n",
       "      <td>.\\obs_data\\12.09.2010_obs_0531+21.csv</td>\n",
       "      <td>1</td>\n",
       "      <td>36629</td>\n",
       "      <td>113.19316</td>\n",
       "      <td>19.54755</td>\n",
       "      <td>63.99360</td>\n",
       "      <td>./gp_plot/12.09.2010_plot_0531+21_0.png</td>\n",
       "      <td>-368.78234</td>\n",
       "    </tr>\n",
       "    <tr>\n",
       "      <th>2010-10-17</th>\n",
       "      <td>17.10.2010</td>\n",
       "      <td>04:19:17.6313152</td>\n",
       "      <td>2.4576</td>\n",
       "      <td>5.988894</td>\n",
       "      <td>2430</td>\n",
       "      <td>34</td>\n",
       "      <td>673.92450</td>\n",
       "      <td>16.700985</td>\n",
       "      <td>./obs_plot/17.10.2010_plot_0531+21.png</td>\n",
       "      <td>.\\obs_data\\17.10.2010_obs_0531+21.csv</td>\n",
       "      <td>1</td>\n",
       "      <td>27361</td>\n",
       "      <td>232.17638</td>\n",
       "      <td>21.53745</td>\n",
       "      <td>74.91825</td>\n",
       "      <td>./gp_plot/17.10.2010_plot_0531+21_0.png</td>\n",
       "      <td>-441.74812</td>\n",
       "    </tr>\n",
       "    <tr>\n",
       "      <th>2010-10-23</th>\n",
       "      <td>23.10.2010</td>\n",
       "      <td>03:55:42.2248611</td>\n",
       "      <td>2.4576</td>\n",
       "      <td>5.988966</td>\n",
       "      <td>2430</td>\n",
       "      <td>34</td>\n",
       "      <td>254.77529</td>\n",
       "      <td>23.837624</td>\n",
       "      <td>./obs_plot/23.10.2010_plot_0531+21.png</td>\n",
       "      <td>.\\obs_data\\23.10.2010_obs_0531+21.csv</td>\n",
       "      <td>1</td>\n",
       "      <td>74376</td>\n",
       "      <td>637.73886</td>\n",
       "      <td>28.65555</td>\n",
       "      <td>99.00000</td>\n",
       "      <td>./gp_plot/23.10.2010_plot_0531+21_0.png</td>\n",
       "      <td>382.96357</td>\n",
       "    </tr>\n",
       "    <tr>\n",
       "      <th>2010-10-23</th>\n",
       "      <td>23.10.2010</td>\n",
       "      <td>03:55:42.2248611</td>\n",
       "      <td>2.4576</td>\n",
       "      <td>5.988966</td>\n",
       "      <td>2430</td>\n",
       "      <td>34</td>\n",
       "      <td>254.77529</td>\n",
       "      <td>23.837624</td>\n",
       "      <td>./obs_plot/23.10.2010_plot_0531+21.png</td>\n",
       "      <td>.\\obs_data\\23.10.2010_obs_0531+21.csv</td>\n",
       "      <td>1</td>\n",
       "      <td>74359</td>\n",
       "      <td>604.87049</td>\n",
       "      <td>16.40925</td>\n",
       "      <td>16.84485</td>\n",
       "      <td>./gp_plot/23.10.2010_plot_0531+21_1.png</td>\n",
       "      <td>350.09520</td>\n",
       "    </tr>\n",
       "    <tr>\n",
       "      <th>2010-10-23</th>\n",
       "      <td>23.10.2010</td>\n",
       "      <td>03:55:42.2248611</td>\n",
       "      <td>2.4576</td>\n",
       "      <td>5.988966</td>\n",
       "      <td>2430</td>\n",
       "      <td>34</td>\n",
       "      <td>254.77529</td>\n",
       "      <td>23.837624</td>\n",
       "      <td>./obs_plot/23.10.2010_plot_0531+21.png</td>\n",
       "      <td>.\\obs_data\\23.10.2010_obs_0531+21.csv</td>\n",
       "      <td>1</td>\n",
       "      <td>74346</td>\n",
       "      <td>434.98244</td>\n",
       "      <td>12.45915</td>\n",
       "      <td>12.86010</td>\n",
       "      <td>./gp_plot/23.10.2010_plot_0531+21_2.png</td>\n",
       "      <td>180.20715</td>\n",
       "    </tr>\n",
       "  </tbody>\n",
       "</table>\n",
       "</div>"
      ],
      "text/plain": [
       "                   Date        Time start  Tay, ms  Period, s  \\\n",
       "Time_series                                                     \n",
       "2010-09-12   12.09.2010  06:36:54.1340866   2.4576   5.988594   \n",
       "2010-10-17   17.10.2010  04:19:17.6313152   2.4576   5.988894   \n",
       "2010-10-23   23.10.2010  03:55:42.2248611   2.4576   5.988966   \n",
       "2010-10-23   23.10.2010  03:55:42.2248611   2.4576   5.988966   \n",
       "2010-10-23   23.10.2010  03:55:42.2248611   2.4576   5.988966   \n",
       "\n",
       "             Numpointwin, point  Numpulse, a.u.  Median, adc u  STD, adc u  \\\n",
       "Time_series                                                                  \n",
       "2010-09-12                 2430              34      481.97550   11.308971   \n",
       "2010-10-17                 2430              34      673.92450   16.700985   \n",
       "2010-10-23                 2430              34      254.77529   23.837624   \n",
       "2010-10-23                 2430              34      254.77529   23.837624   \n",
       "2010-10-23                 2430              34      254.77529   23.837624   \n",
       "\n",
       "                                      path obs plot  \\\n",
       "Time_series                                           \n",
       "2010-09-12   ./obs_plot/12.09.2010_plot_0531+21.png   \n",
       "2010-10-17   ./obs_plot/17.10.2010_plot_0531+21.png   \n",
       "2010-10-23   ./obs_plot/23.10.2010_plot_0531+21.png   \n",
       "2010-10-23   ./obs_plot/23.10.2010_plot_0531+21.png   \n",
       "2010-10-23   ./obs_plot/23.10.2010_plot_0531+21.png   \n",
       "\n",
       "                                     path obs data  Count of GP, u  \\\n",
       "Time_series                                                          \n",
       "2010-09-12   .\\obs_data\\12.09.2010_obs_0531+21.csv               1   \n",
       "2010-10-17   .\\obs_data\\17.10.2010_obs_0531+21.csv               1   \n",
       "2010-10-23   .\\obs_data\\23.10.2010_obs_0531+21.csv               1   \n",
       "2010-10-23   .\\obs_data\\23.10.2010_obs_0531+21.csv               1   \n",
       "2010-10-23   .\\obs_data\\23.10.2010_obs_0531+21.csv               1   \n",
       "\n",
       "             point of gp, point  amp of gp, adc u  W50, point  W10, point  \\\n",
       "Time_series                                                                 \n",
       "2010-09-12                36629         113.19316    19.54755    63.99360   \n",
       "2010-10-17                27361         232.17638    21.53745    74.91825   \n",
       "2010-10-23                74376         637.73886    28.65555    99.00000   \n",
       "2010-10-23                74359         604.87049    16.40925    16.84485   \n",
       "2010-10-23                74346         434.98244    12.45915    12.86010   \n",
       "\n",
       "                                           path plot     amp_GP  \n",
       "Time_series                                                      \n",
       "2010-09-12   ./gp_plot/12.09.2010_plot_0531+21_0.png -368.78234  \n",
       "2010-10-17   ./gp_plot/17.10.2010_plot_0531+21_0.png -441.74812  \n",
       "2010-10-23   ./gp_plot/23.10.2010_plot_0531+21_0.png  382.96357  \n",
       "2010-10-23   ./gp_plot/23.10.2010_plot_0531+21_1.png  350.09520  \n",
       "2010-10-23   ./gp_plot/23.10.2010_plot_0531+21_2.png  180.20715  "
      ]
     },
     "execution_count": 33,
     "metadata": {},
     "output_type": "execute_result"
    }
   ],
   "source": [
    "gp_table.head()"
   ]
  },
  {
   "cell_type": "markdown",
   "metadata": {},
   "source": [
    "### Расчет кол-ва сеансов"
   ]
  },
  {
   "cell_type": "code",
   "execution_count": 7,
   "metadata": {},
   "outputs": [
    {
     "data": {
      "text/plain": [
       "2777"
      ]
     },
     "execution_count": 7,
     "metadata": {},
     "output_type": "execute_result"
    }
   ],
   "source": [
    "files_0531 = sorted(\n",
    "    glob.glob('./obs_data/*'), \n",
    "    key=lambda x: datetime.datetime.strptime(os.path.basename(x), '%d.%m.%Y_obs_0531+21.csv'))\n",
    "len(files_0531)"
   ]
  },
  {
   "cell_type": "code",
   "execution_count": 8,
   "metadata": {},
   "outputs": [],
   "source": [
    "crap_sessoins = pd.DataFrame(columns=['Date', 'Session'])"
   ]
  },
  {
   "cell_type": "code",
   "execution_count": 9,
   "metadata": {},
   "outputs": [],
   "source": [
    "idx = 0\n",
    "for name in files_0531:\n",
    "    _data = (os.path.basename(name)[6:10] \n",
    "             + '-'\n",
    "             + os.path.basename(name)[3:5]\n",
    "             + '-'\n",
    "             + os.path.basename(name)[:2])\n",
    "    \n",
    "    crap_sessoins.loc[idx] = [_data, 1]\n",
    "    idx += 1 \n",
    "crap_sessoins['Time_series'] = pd.to_datetime(crap_sessoins['Date'], format='%Y-%m-%d', errors='ignore')\n",
    "crap_sessoins = crap_sessoins.set_index('Time_series')"
   ]
  },
  {
   "cell_type": "code",
   "execution_count": 10,
   "metadata": {},
   "outputs": [
    {
     "data": {
      "text/html": [
       "<div>\n",
       "<style scoped>\n",
       "    .dataframe tbody tr th:only-of-type {\n",
       "        vertical-align: middle;\n",
       "    }\n",
       "\n",
       "    .dataframe tbody tr th {\n",
       "        vertical-align: top;\n",
       "    }\n",
       "\n",
       "    .dataframe thead th {\n",
       "        text-align: right;\n",
       "    }\n",
       "</style>\n",
       "<table border=\"1\" class=\"dataframe\">\n",
       "  <thead>\n",
       "    <tr style=\"text-align: right;\">\n",
       "      <th></th>\n",
       "      <th>Date</th>\n",
       "      <th>Session</th>\n",
       "    </tr>\n",
       "    <tr>\n",
       "      <th>Time_series</th>\n",
       "      <th></th>\n",
       "      <th></th>\n",
       "    </tr>\n",
       "  </thead>\n",
       "  <tbody>\n",
       "    <tr>\n",
       "      <th>2010-02-13</th>\n",
       "      <td>2010-02-13</td>\n",
       "      <td>1</td>\n",
       "    </tr>\n",
       "    <tr>\n",
       "      <th>2010-09-03</th>\n",
       "      <td>2010-09-03</td>\n",
       "      <td>1</td>\n",
       "    </tr>\n",
       "    <tr>\n",
       "      <th>2010-09-04</th>\n",
       "      <td>2010-09-04</td>\n",
       "      <td>1</td>\n",
       "    </tr>\n",
       "    <tr>\n",
       "      <th>2010-09-05</th>\n",
       "      <td>2010-09-05</td>\n",
       "      <td>1</td>\n",
       "    </tr>\n",
       "    <tr>\n",
       "      <th>2010-09-06</th>\n",
       "      <td>2010-09-06</td>\n",
       "      <td>1</td>\n",
       "    </tr>\n",
       "  </tbody>\n",
       "</table>\n",
       "</div>"
      ],
      "text/plain": [
       "                   Date Session\n",
       "Time_series                    \n",
       "2010-02-13   2010-02-13       1\n",
       "2010-09-03   2010-09-03       1\n",
       "2010-09-04   2010-09-04       1\n",
       "2010-09-05   2010-09-05       1\n",
       "2010-09-06   2010-09-06       1"
      ]
     },
     "execution_count": 10,
     "metadata": {},
     "output_type": "execute_result"
    }
   ],
   "source": [
    "crap_sessoins.head()"
   ]
  },
  {
   "cell_type": "code",
   "execution_count": 11,
   "metadata": {},
   "outputs": [
    {
     "data": {
      "text/plain": [
       "Time_series\n",
       "2010-12-31    105\n",
       "2011-12-31    326\n",
       "2012-12-31    317\n",
       "2013-12-31    361\n",
       "2014-12-31    326\n",
       "2015-12-31    357\n",
       "2016-12-31    341\n",
       "2017-12-31    355\n",
       "2018-12-31    289\n",
       "Freq: A-DEC, Name: Session, dtype: int64"
      ]
     },
     "execution_count": 11,
     "metadata": {},
     "output_type": "execute_result"
    }
   ],
   "source": [
    "crap_sessoins['Session'].resample('Y').sum()"
   ]
  },
  {
   "cell_type": "markdown",
   "metadata": {},
   "source": [
    "### Статистика для 1112+50"
   ]
  },
  {
   "cell_type": "code",
   "execution_count": 12,
   "metadata": {},
   "outputs": [],
   "source": [
    "gp_table_1112 = pd.read_table('1112+50_gp_kaz_10.csv', sep='\\t')\n",
    "session_1112 = pd.read_table('1112+50_obs_kaz.csv', sep='\\t')"
   ]
  },
  {
   "cell_type": "code",
   "execution_count": 13,
   "metadata": {},
   "outputs": [],
   "source": [
    "gp_table_1112['Time_series'] = pd.to_datetime(gp_table_1112['Date'], format='%d.%m.%Y', errors='ignore')\n",
    "session_1112['Time_series'] = pd.to_datetime(session_1112['Date'], format='%d.%m.%Y', errors='ignore')\n",
    "gp_table_1112 = gp_table_1112.set_index('Time_series')\n",
    "session_1112 = session_1112.set_index('Time_series')"
   ]
  },
  {
   "cell_type": "code",
   "execution_count": 14,
   "metadata": {},
   "outputs": [
    {
     "data": {
      "text/html": [
       "<div>\n",
       "<style scoped>\n",
       "    .dataframe tbody tr th:only-of-type {\n",
       "        vertical-align: middle;\n",
       "    }\n",
       "\n",
       "    .dataframe tbody tr th {\n",
       "        vertical-align: top;\n",
       "    }\n",
       "\n",
       "    .dataframe thead th {\n",
       "        text-align: right;\n",
       "    }\n",
       "</style>\n",
       "<table border=\"1\" class=\"dataframe\">\n",
       "  <thead>\n",
       "    <tr style=\"text-align: right;\">\n",
       "      <th></th>\n",
       "      <th>Date</th>\n",
       "      <th>Time start</th>\n",
       "      <th>Tay, ms</th>\n",
       "      <th>Period, s</th>\n",
       "      <th>Numpointwin, point</th>\n",
       "      <th>Numpulse, a.u.</th>\n",
       "      <th>Median, adc u</th>\n",
       "      <th>STD, adc u</th>\n",
       "      <th>File name</th>\n",
       "      <th>Count of GP, u</th>\n",
       "      <th>Num pulse</th>\n",
       "      <th>point of gp, point</th>\n",
       "      <th>amp of gp, adc u</th>\n",
       "      <th>W50, point</th>\n",
       "      <th>W10, point</th>\n",
       "      <th>path plot</th>\n",
       "    </tr>\n",
       "    <tr>\n",
       "      <th>Time_series</th>\n",
       "      <th></th>\n",
       "      <th></th>\n",
       "      <th></th>\n",
       "      <th></th>\n",
       "      <th></th>\n",
       "      <th></th>\n",
       "      <th></th>\n",
       "      <th></th>\n",
       "      <th></th>\n",
       "      <th></th>\n",
       "      <th></th>\n",
       "      <th></th>\n",
       "      <th></th>\n",
       "      <th></th>\n",
       "      <th></th>\n",
       "      <th></th>\n",
       "    </tr>\n",
       "  </thead>\n",
       "  <tbody>\n",
       "    <tr>\n",
       "      <th>2011-01-07</th>\n",
       "      <td>07.01.2011</td>\n",
       "      <td>04:35:00.5850868</td>\n",
       "      <td>2.4576</td>\n",
       "      <td>1.656360</td>\n",
       "      <td>671</td>\n",
       "      <td>182</td>\n",
       "      <td>123.835229</td>\n",
       "      <td>1.683162</td>\n",
       "      <td>070111_1112+50_00_profiles.txt</td>\n",
       "      <td>1</td>\n",
       "      <td>103</td>\n",
       "      <td>343</td>\n",
       "      <td>169.7797</td>\n",
       "      <td>2.3115</td>\n",
       "      <td>4.2210</td>\n",
       "      <td>./gp_plot_pulsar/07.01.2011_plot_1112+50_103.png</td>\n",
       "    </tr>\n",
       "    <tr>\n",
       "      <th>2011-01-08</th>\n",
       "      <td>08.01.2011</td>\n",
       "      <td>04:31:04.4960244</td>\n",
       "      <td>2.4576</td>\n",
       "      <td>1.656362</td>\n",
       "      <td>671</td>\n",
       "      <td>182</td>\n",
       "      <td>160.029380</td>\n",
       "      <td>2.298851</td>\n",
       "      <td>080111_1112+50_00_profiles.txt</td>\n",
       "      <td>1</td>\n",
       "      <td>44</td>\n",
       "      <td>345</td>\n",
       "      <td>191.9667</td>\n",
       "      <td>2.1440</td>\n",
       "      <td>4.2545</td>\n",
       "      <td>./gp_plot_pulsar/08.01.2011_plot_1112+50_44.png</td>\n",
       "    </tr>\n",
       "    <tr>\n",
       "      <th>2011-01-08</th>\n",
       "      <td>08.01.2011</td>\n",
       "      <td>04:31:04.4960244</td>\n",
       "      <td>2.4576</td>\n",
       "      <td>1.656362</td>\n",
       "      <td>671</td>\n",
       "      <td>182</td>\n",
       "      <td>160.029380</td>\n",
       "      <td>2.349784</td>\n",
       "      <td>080111_1112+50_00_profiles.txt</td>\n",
       "      <td>1</td>\n",
       "      <td>80</td>\n",
       "      <td>346</td>\n",
       "      <td>174.5492</td>\n",
       "      <td>2.4120</td>\n",
       "      <td>5.0585</td>\n",
       "      <td>./gp_plot_pulsar/08.01.2011_plot_1112+50_80.png</td>\n",
       "    </tr>\n",
       "    <tr>\n",
       "      <th>2011-01-09</th>\n",
       "      <td>09.01.2011</td>\n",
       "      <td>04:27:08.4964001</td>\n",
       "      <td>2.4576</td>\n",
       "      <td>1.656364</td>\n",
       "      <td>671</td>\n",
       "      <td>182</td>\n",
       "      <td>154.061502</td>\n",
       "      <td>2.171130</td>\n",
       "      <td>090111_1112+50_00_profiles.txt</td>\n",
       "      <td>1</td>\n",
       "      <td>118</td>\n",
       "      <td>342</td>\n",
       "      <td>115.2317</td>\n",
       "      <td>1.8425</td>\n",
       "      <td>3.2160</td>\n",
       "      <td>./gp_plot_pulsar/09.01.2011_plot_1112+50_118.png</td>\n",
       "    </tr>\n",
       "    <tr>\n",
       "      <th>2011-01-10</th>\n",
       "      <td>10.01.2011</td>\n",
       "      <td>04:23:12.5874403</td>\n",
       "      <td>2.4576</td>\n",
       "      <td>1.656366</td>\n",
       "      <td>671</td>\n",
       "      <td>182</td>\n",
       "      <td>156.034789</td>\n",
       "      <td>2.720388</td>\n",
       "      <td>100111_1112+50_00_profiles.txt</td>\n",
       "      <td>1</td>\n",
       "      <td>110</td>\n",
       "      <td>344</td>\n",
       "      <td>115.4240</td>\n",
       "      <td>3.2160</td>\n",
       "      <td>7.7050</td>\n",
       "      <td>./gp_plot_pulsar/10.01.2011_plot_1112+50_110.png</td>\n",
       "    </tr>\n",
       "  </tbody>\n",
       "</table>\n",
       "</div>"
      ],
      "text/plain": [
       "                   Date        Time start  Tay, ms  Period, s  \\\n",
       "Time_series                                                     \n",
       "2011-01-07   07.01.2011  04:35:00.5850868   2.4576   1.656360   \n",
       "2011-01-08   08.01.2011  04:31:04.4960244   2.4576   1.656362   \n",
       "2011-01-08   08.01.2011  04:31:04.4960244   2.4576   1.656362   \n",
       "2011-01-09   09.01.2011  04:27:08.4964001   2.4576   1.656364   \n",
       "2011-01-10   10.01.2011  04:23:12.5874403   2.4576   1.656366   \n",
       "\n",
       "             Numpointwin, point  Numpulse, a.u.  Median, adc u  STD, adc u  \\\n",
       "Time_series                                                                  \n",
       "2011-01-07                  671             182     123.835229    1.683162   \n",
       "2011-01-08                  671             182     160.029380    2.298851   \n",
       "2011-01-08                  671             182     160.029380    2.349784   \n",
       "2011-01-09                  671             182     154.061502    2.171130   \n",
       "2011-01-10                  671             182     156.034789    2.720388   \n",
       "\n",
       "                                  File name  Count of GP, u  Num pulse  \\\n",
       "Time_series                                                              \n",
       "2011-01-07   070111_1112+50_00_profiles.txt               1        103   \n",
       "2011-01-08   080111_1112+50_00_profiles.txt               1         44   \n",
       "2011-01-08   080111_1112+50_00_profiles.txt               1         80   \n",
       "2011-01-09   090111_1112+50_00_profiles.txt               1        118   \n",
       "2011-01-10   100111_1112+50_00_profiles.txt               1        110   \n",
       "\n",
       "             point of gp, point  amp of gp, adc u  W50, point  W10, point  \\\n",
       "Time_series                                                                 \n",
       "2011-01-07                  343          169.7797      2.3115      4.2210   \n",
       "2011-01-08                  345          191.9667      2.1440      4.2545   \n",
       "2011-01-08                  346          174.5492      2.4120      5.0585   \n",
       "2011-01-09                  342          115.2317      1.8425      3.2160   \n",
       "2011-01-10                  344          115.4240      3.2160      7.7050   \n",
       "\n",
       "                                                    path plot  \n",
       "Time_series                                                    \n",
       "2011-01-07   ./gp_plot_pulsar/07.01.2011_plot_1112+50_103.png  \n",
       "2011-01-08    ./gp_plot_pulsar/08.01.2011_plot_1112+50_44.png  \n",
       "2011-01-08    ./gp_plot_pulsar/08.01.2011_plot_1112+50_80.png  \n",
       "2011-01-09   ./gp_plot_pulsar/09.01.2011_plot_1112+50_118.png  \n",
       "2011-01-10   ./gp_plot_pulsar/10.01.2011_plot_1112+50_110.png  "
      ]
     },
     "execution_count": 14,
     "metadata": {},
     "output_type": "execute_result"
    }
   ],
   "source": [
    "gp_table_1112.head()"
   ]
  },
  {
   "cell_type": "code",
   "execution_count": 16,
   "metadata": {},
   "outputs": [
    {
     "data": {
      "text/html": [
       "<div>\n",
       "<style scoped>\n",
       "    .dataframe tbody tr th:only-of-type {\n",
       "        vertical-align: middle;\n",
       "    }\n",
       "\n",
       "    .dataframe tbody tr th {\n",
       "        vertical-align: top;\n",
       "    }\n",
       "\n",
       "    .dataframe thead th {\n",
       "        text-align: right;\n",
       "    }\n",
       "</style>\n",
       "<table border=\"1\" class=\"dataframe\">\n",
       "  <thead>\n",
       "    <tr style=\"text-align: right;\">\n",
       "      <th></th>\n",
       "      <th>Date</th>\n",
       "      <th>Session</th>\n",
       "    </tr>\n",
       "    <tr>\n",
       "      <th>Time_series</th>\n",
       "      <th></th>\n",
       "      <th></th>\n",
       "    </tr>\n",
       "  </thead>\n",
       "  <tbody>\n",
       "    <tr>\n",
       "      <th>2011-01-01</th>\n",
       "      <td>01.01.2011</td>\n",
       "      <td>1</td>\n",
       "    </tr>\n",
       "    <tr>\n",
       "      <th>2011-01-02</th>\n",
       "      <td>02.01.2011</td>\n",
       "      <td>1</td>\n",
       "    </tr>\n",
       "    <tr>\n",
       "      <th>2011-01-04</th>\n",
       "      <td>04.01.2011</td>\n",
       "      <td>1</td>\n",
       "    </tr>\n",
       "    <tr>\n",
       "      <th>2011-01-06</th>\n",
       "      <td>06.01.2011</td>\n",
       "      <td>1</td>\n",
       "    </tr>\n",
       "    <tr>\n",
       "      <th>2011-01-07</th>\n",
       "      <td>07.01.2011</td>\n",
       "      <td>1</td>\n",
       "    </tr>\n",
       "  </tbody>\n",
       "</table>\n",
       "</div>"
      ],
      "text/plain": [
       "                   Date  Session\n",
       "Time_series                     \n",
       "2011-01-01   01.01.2011        1\n",
       "2011-01-02   02.01.2011        1\n",
       "2011-01-04   04.01.2011        1\n",
       "2011-01-06   06.01.2011        1\n",
       "2011-01-07   07.01.2011        1"
      ]
     },
     "execution_count": 16,
     "metadata": {},
     "output_type": "execute_result"
    }
   ],
   "source": [
    "session_1112.head()"
   ]
  },
  {
   "cell_type": "code",
   "execution_count": 17,
   "metadata": {},
   "outputs": [
    {
     "data": {
      "text/plain": [
       "Time_series\n",
       "2011-12-31    100\n",
       "2012-12-31    126\n",
       "2013-12-31     86\n",
       "2014-12-31    247\n",
       "2015-12-31    291\n",
       "2016-12-31    588\n",
       "2017-12-31    408\n",
       "2018-12-31    320\n",
       "Freq: A-DEC, Name: Count of GP, u, dtype: int64"
      ]
     },
     "execution_count": 17,
     "metadata": {},
     "output_type": "execute_result"
    }
   ],
   "source": [
    "gp_table_1112['Count of GP, u'].resample('Y').sum()"
   ]
  },
  {
   "cell_type": "code",
   "execution_count": 18,
   "metadata": {},
   "outputs": [
    {
     "data": {
      "text/plain": [
       "Time_series\n",
       "2011-12-31    132\n",
       "2012-12-31    103\n",
       "2013-12-31     94\n",
       "2014-12-31    200\n",
       "2015-12-31    211\n",
       "2016-12-31    224\n",
       "2017-12-31    286\n",
       "2018-12-31    263\n",
       "Freq: A-DEC, Name: Session, dtype: int64"
      ]
     },
     "execution_count": 18,
     "metadata": {},
     "output_type": "execute_result"
    }
   ],
   "source": [
    "session_1112['Session'].resample('Y').sum()"
   ]
  },
  {
   "cell_type": "markdown",
   "metadata": {},
   "source": [
    "## Итоговая реализация"
   ]
  },
  {
   "cell_type": "markdown",
   "metadata": {},
   "source": [
    "### Crab"
   ]
  },
  {
   "cell_type": "code",
   "execution_count": 19,
   "metadata": {},
   "outputs": [],
   "source": [
    "gp_crab_m = gp_table['Count of GP, u'].resample('M').sum().to_frame()"
   ]
  },
  {
   "cell_type": "code",
   "execution_count": 20,
   "metadata": {},
   "outputs": [],
   "source": [
    "gp_crab_m_ses = crap_sessoins['Session'].resample('M').sum().to_frame()"
   ]
  },
  {
   "cell_type": "code",
   "execution_count": 21,
   "metadata": {},
   "outputs": [],
   "source": [
    "result_crab = gp_crab_m.join(gp_crab_m_ses, how='outer')"
   ]
  },
  {
   "cell_type": "code",
   "execution_count": 22,
   "metadata": {},
   "outputs": [
    {
     "data": {
      "text/html": [
       "<div>\n",
       "<style scoped>\n",
       "    .dataframe tbody tr th:only-of-type {\n",
       "        vertical-align: middle;\n",
       "    }\n",
       "\n",
       "    .dataframe tbody tr th {\n",
       "        vertical-align: top;\n",
       "    }\n",
       "\n",
       "    .dataframe thead th {\n",
       "        text-align: right;\n",
       "    }\n",
       "</style>\n",
       "<table border=\"1\" class=\"dataframe\">\n",
       "  <thead>\n",
       "    <tr style=\"text-align: right;\">\n",
       "      <th></th>\n",
       "      <th>Count of GP, u</th>\n",
       "      <th>Session</th>\n",
       "    </tr>\n",
       "    <tr>\n",
       "      <th>Time_series</th>\n",
       "      <th></th>\n",
       "      <th></th>\n",
       "    </tr>\n",
       "  </thead>\n",
       "  <tbody>\n",
       "    <tr>\n",
       "      <th>2010-02-28</th>\n",
       "      <td>NaN</td>\n",
       "      <td>1</td>\n",
       "    </tr>\n",
       "    <tr>\n",
       "      <th>2010-03-31</th>\n",
       "      <td>NaN</td>\n",
       "      <td>False</td>\n",
       "    </tr>\n",
       "    <tr>\n",
       "      <th>2010-04-30</th>\n",
       "      <td>NaN</td>\n",
       "      <td>False</td>\n",
       "    </tr>\n",
       "    <tr>\n",
       "      <th>2010-05-31</th>\n",
       "      <td>NaN</td>\n",
       "      <td>False</td>\n",
       "    </tr>\n",
       "    <tr>\n",
       "      <th>2010-06-30</th>\n",
       "      <td>NaN</td>\n",
       "      <td>False</td>\n",
       "    </tr>\n",
       "  </tbody>\n",
       "</table>\n",
       "</div>"
      ],
      "text/plain": [
       "             Count of GP, u Session\n",
       "Time_series                        \n",
       "2010-02-28              NaN       1\n",
       "2010-03-31              NaN   False\n",
       "2010-04-30              NaN   False\n",
       "2010-05-31              NaN   False\n",
       "2010-06-30              NaN   False"
      ]
     },
     "execution_count": 22,
     "metadata": {},
     "output_type": "execute_result"
    }
   ],
   "source": [
    "result_crab.head()"
   ]
  },
  {
   "cell_type": "markdown",
   "metadata": {},
   "source": [
    "### 1112+50"
   ]
  },
  {
   "cell_type": "code",
   "execution_count": 23,
   "metadata": {},
   "outputs": [],
   "source": [
    "gp_1112_m = gp_table_1112['Count of GP, u'].resample('M').sum().to_frame()"
   ]
  },
  {
   "cell_type": "code",
   "execution_count": 24,
   "metadata": {},
   "outputs": [],
   "source": [
    "gp_1112_m_ses = session_1112['Session'].resample('M').sum().to_frame()"
   ]
  },
  {
   "cell_type": "code",
   "execution_count": 25,
   "metadata": {},
   "outputs": [],
   "source": [
    "result_1112 = gp_1112_m.join(gp_1112_m_ses, how='outer')"
   ]
  },
  {
   "cell_type": "code",
   "execution_count": 26,
   "metadata": {},
   "outputs": [
    {
     "data": {
      "text/html": [
       "<div>\n",
       "<style scoped>\n",
       "    .dataframe tbody tr th:only-of-type {\n",
       "        vertical-align: middle;\n",
       "    }\n",
       "\n",
       "    .dataframe tbody tr th {\n",
       "        vertical-align: top;\n",
       "    }\n",
       "\n",
       "    .dataframe thead th {\n",
       "        text-align: right;\n",
       "    }\n",
       "</style>\n",
       "<table border=\"1\" class=\"dataframe\">\n",
       "  <thead>\n",
       "    <tr style=\"text-align: right;\">\n",
       "      <th></th>\n",
       "      <th>Count of GP, u</th>\n",
       "      <th>Session</th>\n",
       "    </tr>\n",
       "    <tr>\n",
       "      <th>Time_series</th>\n",
       "      <th></th>\n",
       "      <th></th>\n",
       "    </tr>\n",
       "  </thead>\n",
       "  <tbody>\n",
       "    <tr>\n",
       "      <th>2011-01-31</th>\n",
       "      <td>17</td>\n",
       "      <td>24</td>\n",
       "    </tr>\n",
       "    <tr>\n",
       "      <th>2011-02-28</th>\n",
       "      <td>15</td>\n",
       "      <td>12</td>\n",
       "    </tr>\n",
       "    <tr>\n",
       "      <th>2011-03-31</th>\n",
       "      <td>0</td>\n",
       "      <td>5</td>\n",
       "    </tr>\n",
       "    <tr>\n",
       "      <th>2011-04-30</th>\n",
       "      <td>6</td>\n",
       "      <td>11</td>\n",
       "    </tr>\n",
       "    <tr>\n",
       "      <th>2011-05-31</th>\n",
       "      <td>4</td>\n",
       "      <td>11</td>\n",
       "    </tr>\n",
       "  </tbody>\n",
       "</table>\n",
       "</div>"
      ],
      "text/plain": [
       "             Count of GP, u  Session\n",
       "Time_series                         \n",
       "2011-01-31               17       24\n",
       "2011-02-28               15       12\n",
       "2011-03-31                0        5\n",
       "2011-04-30                6       11\n",
       "2011-05-31                4       11"
      ]
     },
     "execution_count": 26,
     "metadata": {},
     "output_type": "execute_result"
    }
   ],
   "source": [
    "result_1112.head()"
   ]
  },
  {
   "cell_type": "markdown",
   "metadata": {},
   "source": [
    "## Добавление колонок как отношения количества обнаруженных ГИ к количеству обработанных сеансов."
   ]
  },
  {
   "cell_type": "code",
   "execution_count": 27,
   "metadata": {},
   "outputs": [],
   "source": [
    "result_crab['pase_GP']  = np.divide(result_crab['Count of GP, u'], result_crab['Session'])"
   ]
  },
  {
   "cell_type": "code",
   "execution_count": 28,
   "metadata": {},
   "outputs": [
    {
     "name": "stderr",
     "output_type": "stream",
     "text": [
      "c:\\users\\professional\\appdata\\local\\programs\\python\\python35\\lib\\site-packages\\ipykernel_launcher.py:1: RuntimeWarning: invalid value encountered in true_divide\n",
      "  \"\"\"Entry point for launching an IPython kernel.\n"
     ]
    }
   ],
   "source": [
    "result_1112['pase_GP']  = np.divide(result_1112['Count of GP, u'], result_1112['Session'])"
   ]
  },
  {
   "cell_type": "code",
   "execution_count": 29,
   "metadata": {},
   "outputs": [
    {
     "data": {
      "text/html": [
       "<div>\n",
       "<style scoped>\n",
       "    .dataframe tbody tr th:only-of-type {\n",
       "        vertical-align: middle;\n",
       "    }\n",
       "\n",
       "    .dataframe tbody tr th {\n",
       "        vertical-align: top;\n",
       "    }\n",
       "\n",
       "    .dataframe thead th {\n",
       "        text-align: right;\n",
       "    }\n",
       "</style>\n",
       "<table border=\"1\" class=\"dataframe\">\n",
       "  <thead>\n",
       "    <tr style=\"text-align: right;\">\n",
       "      <th></th>\n",
       "      <th>Count of GP, u</th>\n",
       "      <th>Session</th>\n",
       "      <th>pase_GP</th>\n",
       "    </tr>\n",
       "    <tr>\n",
       "      <th>Time_series</th>\n",
       "      <th></th>\n",
       "      <th></th>\n",
       "      <th></th>\n",
       "    </tr>\n",
       "  </thead>\n",
       "  <tbody>\n",
       "    <tr>\n",
       "      <th>2010-02-28</th>\n",
       "      <td>NaN</td>\n",
       "      <td>1</td>\n",
       "      <td>NaN</td>\n",
       "    </tr>\n",
       "    <tr>\n",
       "      <th>2010-03-31</th>\n",
       "      <td>NaN</td>\n",
       "      <td>False</td>\n",
       "      <td>NaN</td>\n",
       "    </tr>\n",
       "    <tr>\n",
       "      <th>2010-04-30</th>\n",
       "      <td>NaN</td>\n",
       "      <td>False</td>\n",
       "      <td>NaN</td>\n",
       "    </tr>\n",
       "    <tr>\n",
       "      <th>2010-05-31</th>\n",
       "      <td>NaN</td>\n",
       "      <td>False</td>\n",
       "      <td>NaN</td>\n",
       "    </tr>\n",
       "    <tr>\n",
       "      <th>2010-06-30</th>\n",
       "      <td>NaN</td>\n",
       "      <td>False</td>\n",
       "      <td>NaN</td>\n",
       "    </tr>\n",
       "  </tbody>\n",
       "</table>\n",
       "</div>"
      ],
      "text/plain": [
       "             Count of GP, u Session pase_GP\n",
       "Time_series                                \n",
       "2010-02-28              NaN       1     NaN\n",
       "2010-03-31              NaN   False     NaN\n",
       "2010-04-30              NaN   False     NaN\n",
       "2010-05-31              NaN   False     NaN\n",
       "2010-06-30              NaN   False     NaN"
      ]
     },
     "execution_count": 29,
     "metadata": {},
     "output_type": "execute_result"
    }
   ],
   "source": [
    "result_crab.head()"
   ]
  },
  {
   "cell_type": "code",
   "execution_count": 30,
   "metadata": {},
   "outputs": [
    {
     "data": {
      "text/html": [
       "<div>\n",
       "<style scoped>\n",
       "    .dataframe tbody tr th:only-of-type {\n",
       "        vertical-align: middle;\n",
       "    }\n",
       "\n",
       "    .dataframe tbody tr th {\n",
       "        vertical-align: top;\n",
       "    }\n",
       "\n",
       "    .dataframe thead th {\n",
       "        text-align: right;\n",
       "    }\n",
       "</style>\n",
       "<table border=\"1\" class=\"dataframe\">\n",
       "  <thead>\n",
       "    <tr style=\"text-align: right;\">\n",
       "      <th></th>\n",
       "      <th>Count of GP, u</th>\n",
       "      <th>Session</th>\n",
       "      <th>pase_GP</th>\n",
       "    </tr>\n",
       "    <tr>\n",
       "      <th>Time_series</th>\n",
       "      <th></th>\n",
       "      <th></th>\n",
       "      <th></th>\n",
       "    </tr>\n",
       "  </thead>\n",
       "  <tbody>\n",
       "    <tr>\n",
       "      <th>2011-01-31</th>\n",
       "      <td>17</td>\n",
       "      <td>24</td>\n",
       "      <td>0.708333</td>\n",
       "    </tr>\n",
       "    <tr>\n",
       "      <th>2011-02-28</th>\n",
       "      <td>15</td>\n",
       "      <td>12</td>\n",
       "      <td>1.250000</td>\n",
       "    </tr>\n",
       "    <tr>\n",
       "      <th>2011-03-31</th>\n",
       "      <td>0</td>\n",
       "      <td>5</td>\n",
       "      <td>0.000000</td>\n",
       "    </tr>\n",
       "    <tr>\n",
       "      <th>2011-04-30</th>\n",
       "      <td>6</td>\n",
       "      <td>11</td>\n",
       "      <td>0.545455</td>\n",
       "    </tr>\n",
       "    <tr>\n",
       "      <th>2011-05-31</th>\n",
       "      <td>4</td>\n",
       "      <td>11</td>\n",
       "      <td>0.363636</td>\n",
       "    </tr>\n",
       "  </tbody>\n",
       "</table>\n",
       "</div>"
      ],
      "text/plain": [
       "             Count of GP, u  Session   pase_GP\n",
       "Time_series                                   \n",
       "2011-01-31               17       24  0.708333\n",
       "2011-02-28               15       12  1.250000\n",
       "2011-03-31                0        5  0.000000\n",
       "2011-04-30                6       11  0.545455\n",
       "2011-05-31                4       11  0.363636"
      ]
     },
     "execution_count": 30,
     "metadata": {},
     "output_type": "execute_result"
    }
   ],
   "source": [
    "result_1112.head()"
   ]
  },
  {
   "cell_type": "code",
   "execution_count": 31,
   "metadata": {},
   "outputs": [
    {
     "ename": "NameError",
     "evalue": "name 'ax' is not defined",
     "output_type": "error",
     "traceback": [
      "\u001b[1;31m---------------------------------------------------------------------------\u001b[0m",
      "\u001b[1;31mNameError\u001b[0m                                 Traceback (most recent call last)",
      "\u001b[1;32m<ipython-input-31-223385d99eee>\u001b[0m in \u001b[0;36m<module>\u001b[1;34m()\u001b[0m\n\u001b[1;32m----> 1\u001b[1;33m \u001b[0max\u001b[0m\u001b[1;33m.\u001b[0m\u001b[0mget_xticklabels\u001b[0m\u001b[1;33m(\u001b[0m\u001b[1;33m)\u001b[0m\u001b[1;33m[\u001b[0m\u001b[1;36m0\u001b[0m\u001b[1;33m]\u001b[0m\u001b[1;33m\u001b[0m\u001b[0m\n\u001b[0m",
      "\u001b[1;31mNameError\u001b[0m: name 'ax' is not defined"
     ]
    }
   ],
   "source": [
    "ax.get_xticklabels()[0]"
   ]
  },
  {
   "cell_type": "code",
   "execution_count": 32,
   "metadata": {},
   "outputs": [
    {
     "data": {
      "image/png": "[encoded data removed]",
      "text/plain": [
       "<Figure size 432x288 with 1 Axes>"
      ]
     },
     "metadata": {},
     "output_type": "display_data"
    }
   ],
   "source": [
    "plt.plot(result_crab['pase_GP'])\n",
    "plt.savefig('res_crab_2010_2018.png', format='png', dpi=150)"
   ]
  },
  {
   "cell_type": "code",
   "execution_count": 38,
   "metadata": {},
   "outputs": [
    {
     "data": {
      "image/png": "[encoded data removed]",
      "text/plain": [
       "<Figure size 1080x504 with 1 Axes>"
      ]
     },
     "metadata": {},
     "output_type": "display_data"
    }
   ],
   "source": [
    "fig, ax = plt.subplots(figsize=(15, 7))\n",
    "ax.bar(result_crab.index, result_crab['pase_GP'])\n",
    "ax.xaxis.set_major_locator(mdates.WeekdayLocator())\n",
    "ax.xaxis.set_major_formatter(mdates.DateFormatter('%Y'))\n",
    "ax.xaxis.set_major_locator(ticker.MultipleLocator(base=300.0))\n",
    "#plt.subplots_adjust(bottom=0.3)\n",
    "#plt.savefig('res_crab_2010_2018.png', format='png', dpi=300)"
   ]
  },
  {
   "cell_type": "code",
   "execution_count": 31,
   "metadata": {},
   "outputs": [
    {
     "data": {
      "text/plain": [
       "<matplotlib.axes._subplots.AxesSubplot at 0x2741d9e5208>"
      ]
     },
     "execution_count": 31,
     "metadata": {},
     "output_type": "execute_result"
    },
    {
     "data": {
      "image/png": "[encoded data removed]",
      "text/plain": [
       "<Figure size 1800x576 with 1 Axes>"
      ]
     },
     "metadata": {},
     "output_type": "display_data"
    }
   ],
   "source": [
    "ax = result_1112.reset_index().plot.bar(x='Time_series', y='pase_GP', figsize=(25, 8))\n",
    "ax"
   ]
  },
  {
   "cell_type": "code",
   "execution_count": 33,
   "metadata": {},
   "outputs": [],
   "source": [
    "\n",
    "\n",
    "# код позволяющий получить количество сеансов, в которых были обнаруженны ГИ\n",
    "array_session =  gp_table_1112.index.unique()\n",
    "data = [1]*len(array_session)\n",
    "sessions_1112 = pd.DataFrame(\n",
    "    data=data, \n",
    "    index=array_session,\n",
    "    columns=['Session']\n",
    ")"
   ]
  },
  {
   "cell_type": "markdown",
   "metadata": {},
   "source": [
    "## Работа с данными по 1112, но полученными уже по сигма для каждого ИИ отдельно"
   ]
  },
  {
   "cell_type": "code",
   "execution_count": 40,
   "metadata": {},
   "outputs": [],
   "source": [
    "gp_table_1112 = pd.read_table('1112+50_gp_kaz_10_sigma.csv', sep='\\t')\n",
    "session_1112 = pd.read_table('1112+50_obs_kaz_10_sigma.csv', sep='\\t')"
   ]
  },
  {
   "cell_type": "code",
   "execution_count": 41,
   "metadata": {},
   "outputs": [],
   "source": [
    "gp_table_1112['Time_series'] = pd.to_datetime(gp_table_1112['Date'], format='%d.%m.%Y', errors='ignore')\n",
    "session_1112['Time_series'] = pd.to_datetime(session_1112['Date'], format='%d.%m.%Y', errors='ignore')\n",
    "gp_table_1112 = gp_table_1112.set_index('Time_series')\n",
    "session_1112 = session_1112.set_index('Time_series')"
   ]
  },
  {
   "cell_type": "code",
   "execution_count": 42,
   "metadata": {},
   "outputs": [
    {
     "data": {
      "text/plain": [
       "Time_series\n",
       "2011-12-31    3231\n",
       "2012-12-31    2084\n",
       "2013-12-31    2032\n",
       "2014-12-31    4106\n",
       "2015-12-31    3513\n",
       "2016-12-31    2760\n",
       "2017-12-31    7494\n",
       "2018-12-31    7927\n",
       "Freq: A-DEC, Name: Count of GP, u, dtype: int64"
      ]
     },
     "execution_count": 42,
     "metadata": {},
     "output_type": "execute_result"
    }
   ],
   "source": [
    "gp_table_1112['Count of GP, u'].resample('Y').sum()"
   ]
  },
  {
   "cell_type": "code",
   "execution_count": 43,
   "metadata": {},
   "outputs": [
    {
     "data": {
      "text/plain": [
       "Time_series\n",
       "2011-12-31    132\n",
       "2012-12-31    103\n",
       "2013-12-31     94\n",
       "2014-12-31    200\n",
       "2015-12-31    211\n",
       "2016-12-31    224\n",
       "2017-12-31    286\n",
       "2018-12-31    263\n",
       "Freq: A-DEC, Name: Session, dtype: int64"
      ]
     },
     "execution_count": 43,
     "metadata": {},
     "output_type": "execute_result"
    }
   ],
   "source": [
    "session_1112['Session'].resample('Y').sum()"
   ]
  },
  {
   "cell_type": "code",
   "execution_count": 44,
   "metadata": {},
   "outputs": [],
   "source": [
    "gp_1112_m = gp_table_1112['Count of GP, u'].resample('M').sum().to_frame()"
   ]
  },
  {
   "cell_type": "code",
   "execution_count": 45,
   "metadata": {},
   "outputs": [],
   "source": [
    "gp_1112_m_ses = session_1112['Session'].resample('M').sum().to_frame()"
   ]
  },
  {
   "cell_type": "code",
   "execution_count": 46,
   "metadata": {},
   "outputs": [],
   "source": [
    "result_1112 = gp_1112_m.join(gp_1112_m_ses, how='outer')"
   ]
  },
  {
   "cell_type": "code",
   "execution_count": 47,
   "metadata": {},
   "outputs": [
    {
     "name": "stderr",
     "output_type": "stream",
     "text": [
      "c:\\users\\professional\\appdata\\local\\programs\\python\\python35\\lib\\site-packages\\ipykernel_launcher.py:1: RuntimeWarning: invalid value encountered in true_divide\n",
      "  \"\"\"Entry point for launching an IPython kernel.\n"
     ]
    }
   ],
   "source": [
    "result_1112['pase_GP']  = np.divide(result_1112['Count of GP, u'], result_1112['Session'])"
   ]
  },
  {
   "cell_type": "code",
   "execution_count": 48,
   "metadata": {},
   "outputs": [
    {
     "data": {
      "text/plain": [
       "<matplotlib.axes._subplots.AxesSubplot at 0x259e9f75400>"
      ]
     },
     "execution_count": 48,
     "metadata": {},
     "output_type": "execute_result"
    },
    {
     "data": {
      "image/png": "[encoded data removed]",
      "text/plain": [
       "<Figure size 1800x576 with 1 Axes>"
      ]
     },
     "metadata": {},
     "output_type": "display_data"
    }
   ],
   "source": [
    "ax = result_1112.reset_index().plot.bar(x='Time_series', y='pase_GP', figsize=(25, 8))\n",
    "ax"
   ]
  },
  {
   "cell_type": "code",
   "execution_count": 45,
   "metadata": {},
   "outputs": [
    {
     "data": {
      "image/png": "[encoded data removed]",
      "text/plain": [
       "<Figure size 432x288 with 1 Axes>"
      ]
     },
     "metadata": {},
     "output_type": "display_data"
    }
   ],
   "source": [
    "plt.plot(result_1112['pase_GP']/np.max(result_1112['pase_GP']))\n",
    "plt.plot(result_crab['pase_GP']/np.max(result_crab['pase_GP']))\n",
    "plt.show()"
   ]
  },
  {
   "cell_type": "code",
   "execution_count": 47,
   "metadata": {},
   "outputs": [],
   "source": [
    "df = pd.read_csv('calibration.csv', sep='\\t', header=0)"
   ]
  },
  {
   "cell_type": "code",
   "execution_count": 56,
   "metadata": {},
   "outputs": [
    {
     "data": {
      "text/html": [
       "<div>\n",
       "<style scoped>\n",
       "    .dataframe tbody tr th:only-of-type {\n",
       "        vertical-align: middle;\n",
       "    }\n",
       "\n",
       "    .dataframe tbody tr th {\n",
       "        vertical-align: top;\n",
       "    }\n",
       "\n",
       "    .dataframe thead th {\n",
       "        text-align: right;\n",
       "    }\n",
       "</style>\n",
       "<table border=\"1\" class=\"dataframe\">\n",
       "  <thead>\n",
       "    <tr style=\"text-align: right;\">\n",
       "      <th></th>\n",
       "      <th>Date</th>\n",
       "      <th>3C405_LebedA</th>\n",
       "      <th>3C123</th>\n",
       "      <th>3C144_crab</th>\n",
       "      <th>3C274_deva</th>\n",
       "      <th>3C348_gerculesA</th>\n",
       "    </tr>\n",
       "    <tr>\n",
       "      <th>Time_series</th>\n",
       "      <th></th>\n",
       "      <th></th>\n",
       "      <th></th>\n",
       "      <th></th>\n",
       "      <th></th>\n",
       "      <th></th>\n",
       "    </tr>\n",
       "  </thead>\n",
       "  <tbody>\n",
       "    <tr>\n",
       "      <th>2014-01-01</th>\n",
       "      <td>2014-01-01</td>\n",
       "      <td>46668.219620</td>\n",
       "      <td>45426.872142</td>\n",
       "      <td>39810.329436</td>\n",
       "      <td>49781.075378</td>\n",
       "      <td>45266.315095</td>\n",
       "    </tr>\n",
       "    <tr>\n",
       "      <th>2014-01-02</th>\n",
       "      <td>2014-01-02</td>\n",
       "      <td>46744.291876</td>\n",
       "      <td>49382.862953</td>\n",
       "      <td>48247.281349</td>\n",
       "      <td>50323.165137</td>\n",
       "      <td>39472.465229</td>\n",
       "    </tr>\n",
       "    <tr>\n",
       "      <th>2014-01-03</th>\n",
       "      <td>2014-01-03</td>\n",
       "      <td>47025.435882</td>\n",
       "      <td>47620.745646</td>\n",
       "      <td>48189.457699</td>\n",
       "      <td>50222.825118</td>\n",
       "      <td>44591.223061</td>\n",
       "    </tr>\n",
       "    <tr>\n",
       "      <th>2014-01-04</th>\n",
       "      <td>2014-01-04</td>\n",
       "      <td>47121.146191</td>\n",
       "      <td>48989.806536</td>\n",
       "      <td>46915.209888</td>\n",
       "      <td>50278.980159</td>\n",
       "      <td>38819.930650</td>\n",
       "    </tr>\n",
       "    <tr>\n",
       "      <th>2014-01-05</th>\n",
       "      <td>2014-01-05</td>\n",
       "      <td>46308.218703</td>\n",
       "      <td>48976.902348</td>\n",
       "      <td>42469.212818</td>\n",
       "      <td>48923.300896</td>\n",
       "      <td>40810.054761</td>\n",
       "    </tr>\n",
       "  </tbody>\n",
       "</table>\n",
       "</div>"
      ],
      "text/plain": [
       "                   Date  3C405_LebedA         3C123    3C144_crab  \\\n",
       "Time_series                                                         \n",
       "2014-01-01   2014-01-01  46668.219620  45426.872142  39810.329436   \n",
       "2014-01-02   2014-01-02  46744.291876  49382.862953  48247.281349   \n",
       "2014-01-03   2014-01-03  47025.435882  47620.745646  48189.457699   \n",
       "2014-01-04   2014-01-04  47121.146191  48989.806536  46915.209888   \n",
       "2014-01-05   2014-01-05  46308.218703  48976.902348  42469.212818   \n",
       "\n",
       "               3C274_deva  3C348_gerculesA  \n",
       "Time_series                                 \n",
       "2014-01-01   49781.075378     45266.315095  \n",
       "2014-01-02   50323.165137     39472.465229  \n",
       "2014-01-03   50222.825118     44591.223061  \n",
       "2014-01-04   50278.980159     38819.930650  \n",
       "2014-01-05   48923.300896     40810.054761  "
      ]
     },
     "execution_count": 56,
     "metadata": {},
     "output_type": "execute_result"
    }
   ],
   "source": [
    "df.head()"
   ]
  },
  {
   "cell_type": "code",
   "execution_count": 48,
   "metadata": {},
   "outputs": [],
   "source": [
    "df['Time_series'] = pd.to_datetime(df['Date'], errors='ignore')"
   ]
  },
  {
   "cell_type": "code",
   "execution_count": 49,
   "metadata": {},
   "outputs": [],
   "source": [
    "df = df.set_index('Time_series')"
   ]
  },
  {
   "cell_type": "code",
   "execution_count": 57,
   "metadata": {},
   "outputs": [],
   "source": [
    "crab_flux = df['3C144_crab'].resample('M').mean().to_frame()"
   ]
  },
  {
   "cell_type": "code",
   "execution_count": 61,
   "metadata": {},
   "outputs": [
    {
     "data": {
      "image/png": "[encoded data removed]",
      "text/plain": [
       "<Figure size 432x288 with 1 Axes>"
      ]
     },
     "metadata": {},
     "output_type": "display_data"
    }
   ],
   "source": [
    "plt.plot(crab_flux['3C144_crab']/np.max(crab_flux['3C144_crab']))\n",
    "plt.plot(result_1112['pase_GP']/np.max(result_1112['pase_GP']))\n",
    "plt.plot(result_crab['pase_GP']/np.max(result_crab['pase_GP']))\n",
    "plt.savefig('crab+1112+bsa.png', format='png', dpi=300)\n",
    "plt.show()"
   ]
  },
  {
   "cell_type": "markdown",
   "metadata": {},
   "source": [
    "## Работа с данными по 1112, но полученными уже по сигма для последовательно объедененных импульсов"
   ]
  },
  {
   "cell_type": "code",
   "execution_count": 49,
   "metadata": {},
   "outputs": [],
   "source": [
    "gp_table_1112 = pd.read_table('1112+50_gp_kaz_10_2010-2018_full_w.csv', sep='\\t')"
   ]
  },
  {
   "cell_type": "code",
   "execution_count": 86,
   "metadata": {},
   "outputs": [
    {
     "name": "stdout",
     "output_type": "stream",
     "text": [
      "26258\n"
     ]
    },
    {
     "data": {
      "text/html": [
       "<div>\n",
       "<style scoped>\n",
       "    .dataframe tbody tr th:only-of-type {\n",
       "        vertical-align: middle;\n",
       "    }\n",
       "\n",
       "    .dataframe tbody tr th {\n",
       "        vertical-align: top;\n",
       "    }\n",
       "\n",
       "    .dataframe thead th {\n",
       "        text-align: right;\n",
       "    }\n",
       "</style>\n",
       "<table border=\"1\" class=\"dataframe\">\n",
       "  <thead>\n",
       "    <tr style=\"text-align: right;\">\n",
       "      <th></th>\n",
       "      <th>Date</th>\n",
       "      <th>Time start</th>\n",
       "      <th>Tay, ms</th>\n",
       "      <th>Period, s</th>\n",
       "      <th>Numpointwin, point</th>\n",
       "      <th>Numpulse, a.u.</th>\n",
       "      <th>Median, adc u</th>\n",
       "      <th>STD, adc u</th>\n",
       "      <th>File name</th>\n",
       "      <th>Count of GP, u</th>\n",
       "      <th>Num pulse</th>\n",
       "      <th>point of gp, point</th>\n",
       "      <th>amp of gp, adc u</th>\n",
       "      <th>W50, point</th>\n",
       "      <th>W10, point</th>\n",
       "      <th>path plot</th>\n",
       "    </tr>\n",
       "    <tr>\n",
       "      <th>Time_series</th>\n",
       "      <th></th>\n",
       "      <th></th>\n",
       "      <th></th>\n",
       "      <th></th>\n",
       "      <th></th>\n",
       "      <th></th>\n",
       "      <th></th>\n",
       "      <th></th>\n",
       "      <th></th>\n",
       "      <th></th>\n",
       "      <th></th>\n",
       "      <th></th>\n",
       "      <th></th>\n",
       "      <th></th>\n",
       "      <th></th>\n",
       "      <th></th>\n",
       "    </tr>\n",
       "  </thead>\n",
       "  <tbody>\n",
       "    <tr>\n",
       "      <th>2011-01-01</th>\n",
       "      <td>01.01.2011</td>\n",
       "      <td>04:58:35.6097213</td>\n",
       "      <td>2.4576</td>\n",
       "      <td>1.656351</td>\n",
       "      <td>671</td>\n",
       "      <td>182</td>\n",
       "      <td>198.95575</td>\n",
       "      <td>4.00867</td>\n",
       "      <td>./obs_plot_pulsar/01.01.2011_plot_1112+50.png</td>\n",
       "      <td>F:\\YandexDisk\\1.Работа\\Результаты обработки\\11...</td>\n",
       "      <td>1</td>\n",
       "      <td>96300</td>\n",
       "      <td>392.5950</td>\n",
       "      <td>8.6989</td>\n",
       "      <td>119.0</td>\n",
       "      <td>./gp_plot_pulsar/01.01.2011_plot_1112+50_0.png</td>\n",
       "    </tr>\n",
       "    <tr>\n",
       "      <th>2011-01-01</th>\n",
       "      <td>01.01.2011</td>\n",
       "      <td>04:58:35.6097213</td>\n",
       "      <td>2.4576</td>\n",
       "      <td>1.656351</td>\n",
       "      <td>671</td>\n",
       "      <td>182</td>\n",
       "      <td>198.95575</td>\n",
       "      <td>4.00867</td>\n",
       "      <td>./obs_plot_pulsar/01.01.2011_plot_1112+50.png</td>\n",
       "      <td>F:\\YandexDisk\\1.Работа\\Результаты обработки\\11...</td>\n",
       "      <td>1</td>\n",
       "      <td>36577</td>\n",
       "      <td>376.8008</td>\n",
       "      <td>119.0000</td>\n",
       "      <td>119.0</td>\n",
       "      <td>./gp_plot_pulsar/01.01.2011_plot_1112+50_1.png</td>\n",
       "    </tr>\n",
       "    <tr>\n",
       "      <th>2011-01-01</th>\n",
       "      <td>01.01.2011</td>\n",
       "      <td>04:58:35.6097213</td>\n",
       "      <td>2.4576</td>\n",
       "      <td>1.656351</td>\n",
       "      <td>671</td>\n",
       "      <td>182</td>\n",
       "      <td>198.95575</td>\n",
       "      <td>4.00867</td>\n",
       "      <td>./obs_plot_pulsar/01.01.2011_plot_1112+50.png</td>\n",
       "      <td>F:\\YandexDisk\\1.Работа\\Результаты обработки\\11...</td>\n",
       "      <td>1</td>\n",
       "      <td>76836</td>\n",
       "      <td>325.5712</td>\n",
       "      <td>119.0000</td>\n",
       "      <td>119.0</td>\n",
       "      <td>./gp_plot_pulsar/01.01.2011_plot_1112+50_2.png</td>\n",
       "    </tr>\n",
       "    <tr>\n",
       "      <th>2011-01-01</th>\n",
       "      <td>01.01.2011</td>\n",
       "      <td>04:58:35.6097213</td>\n",
       "      <td>2.4576</td>\n",
       "      <td>1.656351</td>\n",
       "      <td>671</td>\n",
       "      <td>182</td>\n",
       "      <td>198.95575</td>\n",
       "      <td>4.00867</td>\n",
       "      <td>./obs_plot_pulsar/01.01.2011_plot_1112+50.png</td>\n",
       "      <td>F:\\YandexDisk\\1.Работа\\Результаты обработки\\11...</td>\n",
       "      <td>1</td>\n",
       "      <td>84216</td>\n",
       "      <td>325.0149</td>\n",
       "      <td>119.0000</td>\n",
       "      <td>119.0</td>\n",
       "      <td>./gp_plot_pulsar/01.01.2011_plot_1112+50_3.png</td>\n",
       "    </tr>\n",
       "  </tbody>\n",
       "</table>\n",
       "</div>"
      ],
      "text/plain": [
       "                   Date        Time start  Tay, ms  Period, s  \\\n",
       "Time_series                                                     \n",
       "2011-01-01   01.01.2011  04:58:35.6097213   2.4576   1.656351   \n",
       "2011-01-01   01.01.2011  04:58:35.6097213   2.4576   1.656351   \n",
       "2011-01-01   01.01.2011  04:58:35.6097213   2.4576   1.656351   \n",
       "2011-01-01   01.01.2011  04:58:35.6097213   2.4576   1.656351   \n",
       "\n",
       "             Numpointwin, point  Numpulse, a.u.  Median, adc u  STD, adc u  \\\n",
       "Time_series                                                                  \n",
       "2011-01-01                  671             182      198.95575     4.00867   \n",
       "2011-01-01                  671             182      198.95575     4.00867   \n",
       "2011-01-01                  671             182      198.95575     4.00867   \n",
       "2011-01-01                  671             182      198.95575     4.00867   \n",
       "\n",
       "                                                 File name  \\\n",
       "Time_series                                                  \n",
       "2011-01-01   ./obs_plot_pulsar/01.01.2011_plot_1112+50.png   \n",
       "2011-01-01   ./obs_plot_pulsar/01.01.2011_plot_1112+50.png   \n",
       "2011-01-01   ./obs_plot_pulsar/01.01.2011_plot_1112+50.png   \n",
       "2011-01-01   ./obs_plot_pulsar/01.01.2011_plot_1112+50.png   \n",
       "\n",
       "                                                Count of GP, u  Num pulse  \\\n",
       "Time_series                                                                 \n",
       "2011-01-01   F:\\YandexDisk\\1.Работа\\Результаты обработки\\11...          1   \n",
       "2011-01-01   F:\\YandexDisk\\1.Работа\\Результаты обработки\\11...          1   \n",
       "2011-01-01   F:\\YandexDisk\\1.Работа\\Результаты обработки\\11...          1   \n",
       "2011-01-01   F:\\YandexDisk\\1.Работа\\Результаты обработки\\11...          1   \n",
       "\n",
       "             point of gp, point  amp of gp, adc u  W50, point  W10, point  \\\n",
       "Time_series                                                                 \n",
       "2011-01-01                96300          392.5950      8.6989       119.0   \n",
       "2011-01-01                36577          376.8008    119.0000       119.0   \n",
       "2011-01-01                76836          325.5712    119.0000       119.0   \n",
       "2011-01-01                84216          325.0149    119.0000       119.0   \n",
       "\n",
       "                                                  path plot  \n",
       "Time_series                                                  \n",
       "2011-01-01   ./gp_plot_pulsar/01.01.2011_plot_1112+50_0.png  \n",
       "2011-01-01   ./gp_plot_pulsar/01.01.2011_plot_1112+50_1.png  \n",
       "2011-01-01   ./gp_plot_pulsar/01.01.2011_plot_1112+50_2.png  \n",
       "2011-01-01   ./gp_plot_pulsar/01.01.2011_plot_1112+50_3.png  "
      ]
     },
     "execution_count": 86,
     "metadata": {},
     "output_type": "execute_result"
    }
   ],
   "source": [
    "print(len(gp_table_1112))\n",
    "gp_table_1112.head(4)"
   ]
  },
  {
   "cell_type": "code",
   "execution_count": 51,
   "metadata": {},
   "outputs": [],
   "source": [
    "# Расчет сеансов\n",
    "sessoins_1112_2 = pd.DataFrame(columns=['Date', 'Session'])\n",
    "idx = 0\n",
    "for name in gp_table_1112['File name']:\n",
    "    _data = (os.path.basename(name)[6:10] \n",
    "             + '-'\n",
    "             + os.path.basename(name)[3:5]\n",
    "             + '-'\n",
    "             + os.path.basename(name)[:2])\n",
    "    \n",
    "    sessoins_1112_2.loc[idx] = [_data, 1]\n",
    "    idx += 1 \n",
    "sessoins_1112_2['Time_series'] = pd.to_datetime(sessoins_1112_2['Date'], format='%Y-%m-%d', errors='ignore')\n",
    "sessoins_1112_2 = sessoins_1112_2.set_index('Time_series')\n"
   ]
  },
  {
   "cell_type": "code",
   "execution_count": 52,
   "metadata": {},
   "outputs": [],
   "source": [
    "gp_table_1112['Time_series'] = pd.to_datetime(gp_table_1112['Date'], format='%d.%m.%Y', errors='ignore')\n",
    "gp_table_1112 = gp_table_1112.set_index('Time_series')"
   ]
  },
  {
   "cell_type": "code",
   "execution_count": 87,
   "metadata": {},
   "outputs": [
    {
     "data": {
      "text/plain": [
       "Time_series\n",
       "2011-12-31    2589\n",
       "2012-12-31    1482\n",
       "2013-12-31    1081\n",
       "2014-12-31    3291\n",
       "2015-12-31    2943\n",
       "2016-12-31    2669\n",
       "2017-12-31    5591\n",
       "2018-12-31    5854\n",
       "2019-12-31     758\n",
       "Freq: A-DEC, Name: Num pulse, dtype: int64"
      ]
     },
     "execution_count": 87,
     "metadata": {},
     "output_type": "execute_result"
    }
   ],
   "source": [
    "gp_table_1112['Num pulse'].resample('Y').sum()"
   ]
  },
  {
   "cell_type": "code",
   "execution_count": 88,
   "metadata": {},
   "outputs": [
    {
     "name": "stderr",
     "output_type": "stream",
     "text": [
      "c:\\users\\professional\\appdata\\local\\programs\\python\\python35\\lib\\site-packages\\ipykernel_launcher.py:4: RuntimeWarning: invalid value encountered in true_divide\n",
      "  after removing the cwd from sys.path.\n"
     ]
    }
   ],
   "source": [
    "gp_1112_m = gp_table_1112['Num pulse'].resample('M').sum().to_frame()\n",
    "gp_1112_m_ses = session_1112['Session'].resample('M').sum().to_frame()\n",
    "result_1112 = gp_1112_m.join(gp_1112_m_ses, how='outer')\n",
    "result_1112['pase_GP']  = np.divide(result_1112['Num pulse'], result_1112['Session'])"
   ]
  },
  {
   "cell_type": "code",
   "execution_count": 89,
   "metadata": {},
   "outputs": [
    {
     "data": {
      "text/plain": [
       "<matplotlib.axes._subplots.AxesSubplot at 0x259ed33f4a8>"
      ]
     },
     "execution_count": 89,
     "metadata": {},
     "output_type": "execute_result"
    },
    {
     "data": {
      "image/png": "[encoded data removed]",
      "text/plain": [
       "<Figure size 1800x576 with 1 Axes>"
      ]
     },
     "metadata": {},
     "output_type": "display_data"
    }
   ],
   "source": [
    "ax = result_1112.reset_index().plot.bar(x='Time_series', y='pase_GP', figsize=(25, 8))\n",
    "ax"
   ]
  },
  {
   "cell_type": "code",
   "execution_count": 90,
   "metadata": {},
   "outputs": [
    {
     "data": {
      "image/png": "[encoded data removed]",
      "text/plain": [
       "<Figure size 432x288 with 1 Axes>"
      ]
     },
     "metadata": {},
     "output_type": "display_data"
    }
   ],
   "source": [
    "plt.plot(result_1112['pase_GP'])\n",
    "plt.show()"
   ]
  },
  {
   "cell_type": "code",
   "execution_count": 82,
   "metadata": {},
   "outputs": [
    {
     "data": {
      "text/plain": [
       "Time_series\n",
       "2017-03-01    NaN\n",
       "2017-03-02    1.0\n",
       "2017-03-03    NaN\n",
       "2017-03-04    NaN\n",
       "2017-03-05    NaN\n",
       "2017-03-06    NaN\n",
       "2017-03-07    NaN\n",
       "2017-03-08    NaN\n",
       "2017-03-09    NaN\n",
       "2017-03-10    NaN\n",
       "2017-03-11    NaN\n",
       "2017-03-12    NaN\n",
       "2017-03-13    NaN\n",
       "2017-03-14    NaN\n",
       "2017-03-15    NaN\n",
       "2017-03-16    NaN\n",
       "2017-03-17    NaN\n",
       "2017-03-18    NaN\n",
       "2017-03-19    NaN\n",
       "2017-03-20    NaN\n",
       "2017-03-21    NaN\n",
       "2017-03-22    NaN\n",
       "2017-03-23    NaN\n",
       "2017-03-24    NaN\n",
       "2017-03-25    NaN\n",
       "2017-03-26    NaN\n",
       "2017-03-27    NaN\n",
       "2017-03-28    NaN\n",
       "2017-03-29    NaN\n",
       "2017-03-30    NaN\n",
       "2017-03-31    NaN\n",
       "Freq: D, Name: pase_GP, dtype: float64"
      ]
     },
     "execution_count": 82,
     "metadata": {},
     "output_type": "execute_result"
    }
   ],
   "source": [
    "result_crab_m['pase_GP']"
   ]
  },
  {
   "cell_type": "markdown",
   "metadata": {},
   "source": [
    "## Анализ каждого отдельного глитча по крабу"
   ]
  },
  {
   "cell_type": "code",
   "execution_count": 81,
   "metadata": {},
   "outputs": [
    {
     "data": {
      "image/png": "[encoded data removed]",
      "text/plain": [
       "<Figure size 432x288 with 1 Axes>"
      ]
     },
     "metadata": {},
     "output_type": "display_data"
    }
   ],
   "source": [
    "#2017-03-28\n",
    "part_glitch_1 = gp_table['2017-03']\n",
    "#sesions_glitch_1 = crap_sessoins['Session']['2017-03']\n",
    "gp_crab_d = part_glitch_1['Count of GP, u'].resample('D').sum().to_frame()\n",
    "gp_crab_d_ses = crap_sessoins['Session']['2017-03'].resample('D').sum().to_frame()\n",
    "result_crab_m = gp_crab_d.join(gp_crab_d_ses, how='outer')\n",
    "result_crab_m['pase_GP']  = np.divide(result_crab_m['Count of GP, u'], result_crab_m['Session'])\n",
    "\n",
    "plt.plot(result_crab_m['pase_GP'])\n",
    "plt.show()"
   ]
  },
  {
   "cell_type": "code",
   "execution_count": 83,
   "metadata": {},
   "outputs": [
    {
     "data": {
      "image/png": "[encoded data removed]",
      "text/plain": [
       "<Figure size 432x288 with 1 Axes>"
      ]
     },
     "metadata": {},
     "output_type": "display_data"
    }
   ],
   "source": [
    "#2017-11-07\n",
    "part_glitch_2 = gp_table['2017-11']\n",
    "sesions_glitch_2 = crap_sessoins['Session']['2017-11']\n",
    "gp_crab_d = part_glitch_2['Count of GP, u'].resample('D').sum().to_frame()\n",
    "gp_crab_d_ses = crap_sessoins['Session']['2017-11'].resample('D').sum().to_frame()\n",
    "result_crab_m = gp_crab_d.join(gp_crab_d_ses, how='outer')\n",
    "result_crab_m['pase_GP']  = np.divide(result_crab_m['Count of GP, u'], result_crab_m['Session'])\n",
    "plt.plot(result_crab_m['pase_GP'])\n",
    "plt.show()"
   ]
  },
  {
   "cell_type": "code",
   "execution_count": 84,
   "metadata": {},
   "outputs": [
    {
     "name": "stderr",
     "output_type": "stream",
     "text": [
      "c:\\users\\professional\\appdata\\local\\programs\\python\\python35\\lib\\site-packages\\ipykernel_launcher.py:7: RuntimeWarning: invalid value encountered in true_divide\n",
      "  import sys\n"
     ]
    },
    {
     "data": {
      "image/png": "[encoded data removed]",
      "text/plain": [
       "<Figure size 432x288 with 1 Axes>"
      ]
     },
     "metadata": {},
     "output_type": "display_data"
    }
   ],
   "source": [
    "#2018-04-29\n",
    "part_glitch_3 = gp_table['2018-04']\n",
    "sesions_glitch_3 = crap_sessoins['Session']['2018-04']\n",
    "gp_crab_d = part_glitch_3['Count of GP, u'].resample('D').sum().to_frame()\n",
    "gp_crab_d_ses = crap_sessoins['Session']['2018-04'].resample('D').sum().to_frame()\n",
    "result_crab_m = gp_crab_d.join(gp_crab_d_ses, how='outer')\n",
    "result_crab_m['pase_GP']  = np.divide(result_crab_m['Count of GP, u'], result_crab_m['Session'])\n",
    "plt.plot(result_crab_m['pase_GP'])\n",
    "plt.show()"
   ]
  },
  {
   "cell_type": "code",
   "execution_count": 91,
   "metadata": {},
   "outputs": [
    {
     "name": "stderr",
     "output_type": "stream",
     "text": [
      "c:\\users\\professional\\appdata\\local\\programs\\python\\python35\\lib\\site-packages\\ipykernel_launcher.py:6: RuntimeWarning: invalid value encountered in true_divide\n",
      "  \n"
     ]
    },
    {
     "data": {
      "image/png": "[encoded data removed]",
      "text/plain": [
       "<Figure size 432x288 with 1 Axes>"
      ]
     },
     "metadata": {},
     "output_type": "display_data"
    }
   ],
   "source": [
    "part_glitch_3 = gp_table['2018-05']\n",
    "sesions_glitch_3 = crap_sessoins['Session']['2018-05']\n",
    "gp_crab_d = part_glitch_3['Count of GP, u'].resample('D').sum().to_frame()\n",
    "gp_crab_d_ses = crap_sessoins['Session']['2018-05'].resample('D').sum().to_frame()\n",
    "result_crab_m = gp_crab_d.join(gp_crab_d_ses, how='outer')\n",
    "result_crab_m['pase_GP']  = np.divide(result_crab_m['Count of GP, u'], result_crab_m['Session'])\n",
    "plt.plot(result_crab_m['pase_GP'])\n",
    "plt.show()"
   ]
  },
  {
   "cell_type": "code",
   "execution_count": 92,
   "metadata": {},
   "outputs": [
    {
     "data": {
      "image/png": "[encoded data removed]",
      "text/plain": [
       "<Figure size 432x288 with 1 Axes>"
      ]
     },
     "metadata": {},
     "output_type": "display_data"
    }
   ],
   "source": [
    "part_glitch_3 = gp_table['2016-05']\n",
    "sesions_glitch_3 = crap_sessoins['Session']['2016-05']\n",
    "gp_crab_d = part_glitch_3['Count of GP, u'].resample('D').sum().to_frame()\n",
    "gp_crab_d_ses = crap_sessoins['Session']['2016-05'].resample('D').sum().to_frame()\n",
    "result_crab_m = gp_crab_d.join(gp_crab_d_ses, how='outer')\n",
    "result_crab_m['pase_GP']  = np.divide(result_crab_m['Count of GP, u'], result_crab_m['Session'])\n",
    "plt.plot(result_crab_m['pase_GP'])\n",
    "plt.show()"
   ]
  },
  {
   "cell_type": "code",
   "execution_count": 95,
   "metadata": {},
   "outputs": [
    {
     "name": "stderr",
     "output_type": "stream",
     "text": [
      "c:\\users\\professional\\appdata\\local\\programs\\python\\python35\\lib\\site-packages\\ipykernel_launcher.py:7: RuntimeWarning: invalid value encountered in true_divide\n",
      "  import sys\n"
     ]
    },
    {
     "data": {
      "image/png": "[encoded data removed]",
      "text/plain": [
       "<Figure size 432x288 with 1 Axes>"
      ]
     },
     "metadata": {},
     "output_type": "display_data"
    }
   ],
   "source": [
    "month = '2018-03'\n",
    "part_glitch_3 = gp_table[month]\n",
    "sesions_glitch_3 = crap_sessoins['Session'][month]\n",
    "gp_crab_d = part_glitch_3['Count of GP, u'].resample('D').sum().to_frame()\n",
    "gp_crab_d_ses = crap_sessoins['Session'][month].resample('D').sum().to_frame()\n",
    "result_crab_m = gp_crab_d.join(gp_crab_d_ses, how='outer')\n",
    "result_crab_m['pase_GP']  = np.divide(result_crab_m['Count of GP, u'], result_crab_m['Session'])\n",
    "plt.plot(result_crab_m['pase_GP'])\n",
    "plt.show()"
   ]
  },
  {
   "cell_type": "markdown",
   "metadata": {},
   "source": [
    "### Анализ таблицы данный по крабу с абсолютной калибровкой по туманности"
   ]
  },
  {
   "cell_type": "code",
   "execution_count": 37,
   "metadata": {},
   "outputs": [],
   "source": [
    "gp_table = pd.read_table('crab_gp_kaz_10_2010-2018_calib.csv', sep='\\t')\n",
    "crab_session = pd.read_table('crab_obs_kaz.csv', sep='\\t')"
   ]
  },
  {
   "cell_type": "code",
   "execution_count": 38,
   "metadata": {},
   "outputs": [
    {
     "data": {
      "text/html": [
       "<div>\n",
       "<style scoped>\n",
       "    .dataframe tbody tr th:only-of-type {\n",
       "        vertical-align: middle;\n",
       "    }\n",
       "\n",
       "    .dataframe tbody tr th {\n",
       "        vertical-align: top;\n",
       "    }\n",
       "\n",
       "    .dataframe thead th {\n",
       "        text-align: right;\n",
       "    }\n",
       "</style>\n",
       "<table border=\"1\" class=\"dataframe\">\n",
       "  <thead>\n",
       "    <tr style=\"text-align: right;\">\n",
       "      <th></th>\n",
       "      <th>Date</th>\n",
       "      <th>Time start</th>\n",
       "      <th>Tay, ms</th>\n",
       "      <th>Period, s</th>\n",
       "      <th>Numpointwin, point</th>\n",
       "      <th>Numpulse, a.u.</th>\n",
       "      <th>Median, adc u</th>\n",
       "      <th>STD, adc u</th>\n",
       "      <th>path obs plot</th>\n",
       "      <th>path obs data</th>\n",
       "      <th>Count of GP, u</th>\n",
       "      <th>point of gp, point</th>\n",
       "      <th>amp of gp, adc u</th>\n",
       "      <th>W50, point</th>\n",
       "      <th>W10, point</th>\n",
       "      <th>path plot</th>\n",
       "    </tr>\n",
       "  </thead>\n",
       "  <tbody>\n",
       "    <tr>\n",
       "      <th>0</th>\n",
       "      <td>05.09.2010</td>\n",
       "      <td>07:04:25.4187240</td>\n",
       "      <td>2.4576</td>\n",
       "      <td>5.988559</td>\n",
       "      <td>2430</td>\n",
       "      <td>34</td>\n",
       "      <td>1720.0</td>\n",
       "      <td>11.285902</td>\n",
       "      <td>./obs_plot/05.09.2010_plot_0531+21.png</td>\n",
       "      <td>.\\obs_data\\05.09.2010_obs_0531+21.csv</td>\n",
       "      <td>1</td>\n",
       "      <td>21354</td>\n",
       "      <td>93.415960</td>\n",
       "      <td>19.17135</td>\n",
       "      <td>99.00000</td>\n",
       "      <td>./gp_plot/05.09.2010_plot_0531+21_0.png</td>\n",
       "    </tr>\n",
       "    <tr>\n",
       "      <th>1</th>\n",
       "      <td>09.09.2010</td>\n",
       "      <td>06:48:41.8374290</td>\n",
       "      <td>2.4576</td>\n",
       "      <td>5.988578</td>\n",
       "      <td>2430</td>\n",
       "      <td>34</td>\n",
       "      <td>1720.0</td>\n",
       "      <td>12.771049</td>\n",
       "      <td>./obs_plot/09.09.2010_plot_0531+21.png</td>\n",
       "      <td>.\\obs_data\\09.09.2010_obs_0531+21.csv</td>\n",
       "      <td>1</td>\n",
       "      <td>45640</td>\n",
       "      <td>121.280215</td>\n",
       "      <td>19.30995</td>\n",
       "      <td>54.57375</td>\n",
       "      <td>./gp_plot/09.09.2010_plot_0531+21_0.png</td>\n",
       "    </tr>\n",
       "    <tr>\n",
       "      <th>2</th>\n",
       "      <td>12.09.2010</td>\n",
       "      <td>06:36:54.1340866</td>\n",
       "      <td>2.4576</td>\n",
       "      <td>5.988594</td>\n",
       "      <td>2430</td>\n",
       "      <td>34</td>\n",
       "      <td>1720.0</td>\n",
       "      <td>11.308971</td>\n",
       "      <td>./obs_plot/12.09.2010_plot_0531+21.png</td>\n",
       "      <td>.\\obs_data\\12.09.2010_obs_0531+21.csv</td>\n",
       "      <td>1</td>\n",
       "      <td>36629</td>\n",
       "      <td>113.193160</td>\n",
       "      <td>19.54755</td>\n",
       "      <td>63.99360</td>\n",
       "      <td>./gp_plot/12.09.2010_plot_0531+21_0.png</td>\n",
       "    </tr>\n",
       "    <tr>\n",
       "      <th>3</th>\n",
       "      <td>17.09.2010</td>\n",
       "      <td>06:17:14.6399831</td>\n",
       "      <td>2.4576</td>\n",
       "      <td>5.988624</td>\n",
       "      <td>2430</td>\n",
       "      <td>34</td>\n",
       "      <td>1720.0</td>\n",
       "      <td>12.099526</td>\n",
       "      <td>./obs_plot/17.09.2010_plot_0531+21.png</td>\n",
       "      <td>.\\obs_data\\17.09.2010_obs_0531+21.csv</td>\n",
       "      <td>1</td>\n",
       "      <td>41855</td>\n",
       "      <td>106.751170</td>\n",
       "      <td>18.80505</td>\n",
       "      <td>39.28815</td>\n",
       "      <td>./gp_plot/17.09.2010_plot_0531+21_0.png</td>\n",
       "    </tr>\n",
       "    <tr>\n",
       "      <th>4</th>\n",
       "      <td>17.10.2010</td>\n",
       "      <td>04:19:17.6313152</td>\n",
       "      <td>2.4576</td>\n",
       "      <td>5.988894</td>\n",
       "      <td>2430</td>\n",
       "      <td>34</td>\n",
       "      <td>1720.0</td>\n",
       "      <td>16.700985</td>\n",
       "      <td>./obs_plot/17.10.2010_plot_0531+21.png</td>\n",
       "      <td>.\\obs_data\\17.10.2010_obs_0531+21.csv</td>\n",
       "      <td>1</td>\n",
       "      <td>27361</td>\n",
       "      <td>232.176380</td>\n",
       "      <td>21.53745</td>\n",
       "      <td>74.91825</td>\n",
       "      <td>./gp_plot/17.10.2010_plot_0531+21_0.png</td>\n",
       "    </tr>\n",
       "  </tbody>\n",
       "</table>\n",
       "</div>"
      ],
      "text/plain": [
       "         Date        Time start  Tay, ms  Period, s  Numpointwin, point  \\\n",
       "0  05.09.2010  07:04:25.4187240   2.4576   5.988559                2430   \n",
       "1  09.09.2010  06:48:41.8374290   2.4576   5.988578                2430   \n",
       "2  12.09.2010  06:36:54.1340866   2.4576   5.988594                2430   \n",
       "3  17.09.2010  06:17:14.6399831   2.4576   5.988624                2430   \n",
       "4  17.10.2010  04:19:17.6313152   2.4576   5.988894                2430   \n",
       "\n",
       "   Numpulse, a.u.  Median, adc u  STD, adc u  \\\n",
       "0              34         1720.0   11.285902   \n",
       "1              34         1720.0   12.771049   \n",
       "2              34         1720.0   11.308971   \n",
       "3              34         1720.0   12.099526   \n",
       "4              34         1720.0   16.700985   \n",
       "\n",
       "                            path obs plot  \\\n",
       "0  ./obs_plot/05.09.2010_plot_0531+21.png   \n",
       "1  ./obs_plot/09.09.2010_plot_0531+21.png   \n",
       "2  ./obs_plot/12.09.2010_plot_0531+21.png   \n",
       "3  ./obs_plot/17.09.2010_plot_0531+21.png   \n",
       "4  ./obs_plot/17.10.2010_plot_0531+21.png   \n",
       "\n",
       "                           path obs data  Count of GP, u  point of gp, point  \\\n",
       "0  .\\obs_data\\05.09.2010_obs_0531+21.csv               1               21354   \n",
       "1  .\\obs_data\\09.09.2010_obs_0531+21.csv               1               45640   \n",
       "2  .\\obs_data\\12.09.2010_obs_0531+21.csv               1               36629   \n",
       "3  .\\obs_data\\17.09.2010_obs_0531+21.csv               1               41855   \n",
       "4  .\\obs_data\\17.10.2010_obs_0531+21.csv               1               27361   \n",
       "\n",
       "   amp of gp, adc u  W50, point  W10, point  \\\n",
       "0         93.415960    19.17135    99.00000   \n",
       "1        121.280215    19.30995    54.57375   \n",
       "2        113.193160    19.54755    63.99360   \n",
       "3        106.751170    18.80505    39.28815   \n",
       "4        232.176380    21.53745    74.91825   \n",
       "\n",
       "                                 path plot  \n",
       "0  ./gp_plot/05.09.2010_plot_0531+21_0.png  \n",
       "1  ./gp_plot/09.09.2010_plot_0531+21_0.png  \n",
       "2  ./gp_plot/12.09.2010_plot_0531+21_0.png  \n",
       "3  ./gp_plot/17.09.2010_plot_0531+21_0.png  \n",
       "4  ./gp_plot/17.10.2010_plot_0531+21_0.png  "
      ]
     },
     "execution_count": 38,
     "metadata": {},
     "output_type": "execute_result"
    }
   ],
   "source": [
    "gp_table.head()"
   ]
  },
  {
   "cell_type": "code",
   "execution_count": 39,
   "metadata": {},
   "outputs": [
    {
     "data": {
      "text/html": [
       "<div>\n",
       "<style scoped>\n",
       "    .dataframe tbody tr th:only-of-type {\n",
       "        vertical-align: middle;\n",
       "    }\n",
       "\n",
       "    .dataframe tbody tr th {\n",
       "        vertical-align: top;\n",
       "    }\n",
       "\n",
       "    .dataframe thead th {\n",
       "        text-align: right;\n",
       "    }\n",
       "</style>\n",
       "<table border=\"1\" class=\"dataframe\">\n",
       "  <thead>\n",
       "    <tr style=\"text-align: right;\">\n",
       "      <th></th>\n",
       "      <th>Date</th>\n",
       "      <th>Session</th>\n",
       "    </tr>\n",
       "  </thead>\n",
       "  <tbody>\n",
       "    <tr>\n",
       "      <th>0</th>\n",
       "      <td>13.02.2010</td>\n",
       "      <td>1</td>\n",
       "    </tr>\n",
       "    <tr>\n",
       "      <th>1</th>\n",
       "      <td>03.09.2010</td>\n",
       "      <td>1</td>\n",
       "    </tr>\n",
       "    <tr>\n",
       "      <th>2</th>\n",
       "      <td>04.09.2010</td>\n",
       "      <td>1</td>\n",
       "    </tr>\n",
       "    <tr>\n",
       "      <th>3</th>\n",
       "      <td>05.09.2010</td>\n",
       "      <td>1</td>\n",
       "    </tr>\n",
       "    <tr>\n",
       "      <th>4</th>\n",
       "      <td>06.09.2010</td>\n",
       "      <td>1</td>\n",
       "    </tr>\n",
       "  </tbody>\n",
       "</table>\n",
       "</div>"
      ],
      "text/plain": [
       "         Date  Session\n",
       "0  13.02.2010        1\n",
       "1  03.09.2010        1\n",
       "2  04.09.2010        1\n",
       "3  05.09.2010        1\n",
       "4  06.09.2010        1"
      ]
     },
     "execution_count": 39,
     "metadata": {},
     "output_type": "execute_result"
    }
   ],
   "source": [
    "crab_session.head()"
   ]
  },
  {
   "cell_type": "code",
   "execution_count": 40,
   "metadata": {},
   "outputs": [],
   "source": [
    "gp_table['amp_GP']  = np.subtract(gp_table['amp of gp, adc u'], gp_table['Median, adc u'])\n",
    "gp_table['Time_series'] = pd.to_datetime(gp_table['Date'], format='%d.%m.%Y', errors='ignore')\n",
    "gp_table = gp_table.set_index('Time_series')"
   ]
  },
  {
   "cell_type": "code",
   "execution_count": 41,
   "metadata": {},
   "outputs": [
    {
     "data": {
      "text/html": [
       "<div>\n",
       "<style scoped>\n",
       "    .dataframe tbody tr th:only-of-type {\n",
       "        vertical-align: middle;\n",
       "    }\n",
       "\n",
       "    .dataframe tbody tr th {\n",
       "        vertical-align: top;\n",
       "    }\n",
       "\n",
       "    .dataframe thead th {\n",
       "        text-align: right;\n",
       "    }\n",
       "</style>\n",
       "<table border=\"1\" class=\"dataframe\">\n",
       "  <thead>\n",
       "    <tr style=\"text-align: right;\">\n",
       "      <th></th>\n",
       "      <th>Count of GP, u</th>\n",
       "      <th>Session</th>\n",
       "    </tr>\n",
       "    <tr>\n",
       "      <th>Time_series</th>\n",
       "      <th></th>\n",
       "      <th></th>\n",
       "    </tr>\n",
       "  </thead>\n",
       "  <tbody>\n",
       "    <tr>\n",
       "      <th>2010-02-28</th>\n",
       "      <td>NaN</td>\n",
       "      <td>1</td>\n",
       "    </tr>\n",
       "    <tr>\n",
       "      <th>2010-03-31</th>\n",
       "      <td>NaN</td>\n",
       "      <td>False</td>\n",
       "    </tr>\n",
       "    <tr>\n",
       "      <th>2010-04-30</th>\n",
       "      <td>NaN</td>\n",
       "      <td>False</td>\n",
       "    </tr>\n",
       "    <tr>\n",
       "      <th>2010-05-31</th>\n",
       "      <td>NaN</td>\n",
       "      <td>False</td>\n",
       "    </tr>\n",
       "    <tr>\n",
       "      <th>2010-06-30</th>\n",
       "      <td>NaN</td>\n",
       "      <td>False</td>\n",
       "    </tr>\n",
       "  </tbody>\n",
       "</table>\n",
       "</div>"
      ],
      "text/plain": [
       "             Count of GP, u Session\n",
       "Time_series                        \n",
       "2010-02-28              NaN       1\n",
       "2010-03-31              NaN   False\n",
       "2010-04-30              NaN   False\n",
       "2010-05-31              NaN   False\n",
       "2010-06-30              NaN   False"
      ]
     },
     "execution_count": 41,
     "metadata": {},
     "output_type": "execute_result"
    }
   ],
   "source": [
    "gp_crab_m = gp_table['Count of GP, u'].resample('M').sum().to_frame()\n",
    "gp_crab_m_ses = crap_sessoins['Session'].resample('M').sum().to_frame()\n",
    "result_crab = gp_crab_m.join(gp_crab_m_ses, how='outer')\n",
    "result_crab.head()"
   ]
  },
  {
   "cell_type": "code",
   "execution_count": 42,
   "metadata": {},
   "outputs": [],
   "source": [
    "result_crab['pase_GP']  = np.divide(result_crab['Count of GP, u'], result_crab['Session'])"
   ]
  },
  {
   "cell_type": "code",
   "execution_count": 43,
   "metadata": {},
   "outputs": [
    {
     "data": {
      "image/png": "[encoded data removed]",
      "text/plain": [
       "<Figure size 432x288 with 1 Axes>"
      ]
     },
     "metadata": {},
     "output_type": "display_data"
    }
   ],
   "source": [
    "plt.plot(result_crab['pase_GP'])\n",
    "plt.show()"
   ]
  },
  {
   "cell_type": "code",
   "execution_count": null,
   "metadata": {},
   "outputs": [],
   "source": []
  }
 ],
 "metadata": {
  "kernelspec": {
   "display_name": "Python 3",
   "language": "python",
   "name": "python3"
  },
  "language_info": {
   "codemirror_mode": {
    "name": "ipython",
    "version": 3
   },
   "file_extension": ".py",
   "mimetype": "text/x-python",
   "name": "python",
   "nbconvert_exporter": "python",
   "pygments_lexer": "ipython3",
   "version": "3.5.2"
  }
 },
 "nbformat": 4,
 "nbformat_minor": 2
}
