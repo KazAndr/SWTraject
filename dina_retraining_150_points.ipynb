{
 "cells": [
  {
   "cell_type": "markdown",
   "metadata": {},
   "source": [
    "Файл для тренеровки нейронной сети на данных с окном в 150 точек"
   ]
  },
  {
   "cell_type": "code",
   "execution_count": 3,
   "metadata": {},
   "outputs": [
    {
     "name": "stderr",
     "output_type": "stream",
     "text": [
      "/home/andr/.pyenv/versions/3.7.4/lib/python3.7/site-packages/sklearn/externals/joblib/__init__.py:15: FutureWarning: sklearn.externals.joblib is deprecated in 0.21 and will be removed in 0.23. Please import this functionality directly from joblib, which can be installed with: pip install joblib. If this warning is raised when loading pickled models, you may need to re-serialize those models with scikit-learn 0.21+.\n",
      "  warnings.warn(msg, category=FutureWarning)\n"
     ]
    }
   ],
   "source": [
    "import os \n",
    "import glob\n",
    "import datetime\n",
    "\n",
    "import numpy as np\n",
    "import pandas as pd\n",
    "import matplotlib.pyplot as plt\n",
    "\n",
    "from sklearn.ensemble import RandomForestClassifier\n",
    "from sklearn.svm import SVC\n",
    "from sklearn.model_selection import train_test_split\n",
    "from sklearn.metrics import accuracy_score\n",
    "\n",
    "from sklearn.externals import joblib"
   ]
  },
  {
   "cell_type": "code",
   "execution_count": 5,
   "metadata": {},
   "outputs": [],
   "source": [
    "# Считываем набор файлов из типизированных директорий\n",
    "zero_files = [os.path.basename(i)[:-4] for i in glob.glob('./results_set/typizing/0/*')]\n",
    "one_files = [os.path.basename(i)[:-4] for i in glob.glob('./results_set/typizing/1/*')]"
   ]
  },
  {
   "cell_type": "code",
   "execution_count": 6,
   "metadata": {},
   "outputs": [],
   "source": [
    "dataset_pulse = pd.DataFrame(\n",
    "    columns=[f'point_{i}' for i in range(150)]\n",
    ")\n",
    "dataset_pulse['type'] = None"
   ]
  },
  {
   "cell_type": "code",
   "execution_count": 7,
   "metadata": {},
   "outputs": [],
   "source": [
    "idx = 0\n",
    "# добавляем импульсы\n",
    "for name in one_files:\n",
    "    profile = np.genfromtxt(f'./results_set/file_untypized/{name}.csv', skip_header=6)\n",
    "    profile /= max(profile)  # Нормировка для выделения только формы импульса\n",
    "    try:\n",
    "        dataset_pulse.loc[idx] = [\n",
    "            *profile,\n",
    "            1\n",
    "        ]\n",
    "        idx += 1\n",
    "    except ValueError:  # Избегаем импульсов короче 150 точек\n",
    "        continue\n",
    "# Добавляем помехи\n",
    "for name in zero_files:\n",
    "    profile = np.genfromtxt(f'./results_set/file_untypized/{name}.csv', skip_header=6)\n",
    "    profile /= max(profile)  # Нормировка для выделения только формы импульса\n",
    "    try:\n",
    "        dataset_pulse.loc[idx] = [\n",
    "            *profile,\n",
    "            0\n",
    "        ]\n",
    "        idx += 1\n",
    "    except ValueError:  # Избегаем импульсов короче 150 точек\n",
    "        continue"
   ]
  },
  {
   "cell_type": "code",
   "execution_count": 8,
   "metadata": {},
   "outputs": [],
   "source": [
    "X = dataset_pulse.drop(['type'], axis=1)\n",
    "y = dataset_pulse['type']"
   ]
  },
  {
   "cell_type": "code",
   "execution_count": 9,
   "metadata": {},
   "outputs": [],
   "source": [
    "X_train, X_test, y_train, y_test = train_test_split(X, y, test_size=0.3)"
   ]
  },
  {
   "cell_type": "code",
   "execution_count": 10,
   "metadata": {},
   "outputs": [
    {
     "name": "stdout",
     "output_type": "stream",
     "text": [
      "0.986328125\n"
     ]
    }
   ],
   "source": [
    "clf = RandomForestClassifier(n_estimators=1000)\n",
    "clf = clf.fit(X_train, y_train)\n",
    "predictions = clf.predict(X_test)\n",
    "print(accuracy_score(predictions, y_test))"
   ]
  },
  {
   "cell_type": "code",
   "execution_count": 4,
   "metadata": {},
   "outputs": [],
   "source": [
    "NOW = datetime.datetime.now().strftime(\"%Y-%m-%d\")"
   ]
  },
  {
   "cell_type": "code",
   "execution_count": 30,
   "metadata": {},
   "outputs": [],
   "source": [
    "# Сохранение базы данных\n",
    "dataset_pulse.to_csv(f'typized_dataset_for_dina_{NOW}.csv', sep='\\t', header=True, index=False)"
   ]
  },
  {
   "cell_type": "code",
   "execution_count": 36,
   "metadata": {},
   "outputs": [
    {
     "data": {
      "text/plain": [
       "['dina_model_RFC(1000)_pulse_noise_95.sav']"
      ]
     },
     "execution_count": 36,
     "metadata": {},
     "output_type": "execute_result"
    }
   ],
   "source": [
    "# Сохранение обученной нейросети\n",
    "filename = 'dina_model_RFC(1000)_pulse_noise_95_{NOW}.sav'\n",
    "joblib.dump(clf, filename)"
   ]
  },
  {
   "cell_type": "code",
   "execution_count": null,
   "metadata": {},
   "outputs": [],
   "source": []
  }
 ],
 "metadata": {
  "kernelspec": {
   "display_name": "Python 3",
   "language": "python",
   "name": "python3"
  },
  "language_info": {
   "codemirror_mode": {
    "name": "ipython",
    "version": 3
   },
   "file_extension": ".py",
   "mimetype": "text/x-python",
   "name": "python",
   "nbconvert_exporter": "python",
   "pygments_lexer": "ipython3",
   "version": "3.7.4"
  }
 },
 "nbformat": 4,
 "nbformat_minor": 4
}
